{
 "cells": [
  {
   "cell_type": "code",
   "execution_count": 1,
   "id": "cbc17084-e4d0-468b-a0a4-9d75eebceb9d",
   "metadata": {},
   "outputs": [
    {
     "name": "stderr",
     "output_type": "stream",
     "text": [
      "No model was supplied, defaulted to facebook/bart-large-mnli and revision c626438 (https://huggingface.co/facebook/bart-large-mnli).\n",
      "Using a pipeline without specifying a model name and revision in production is not recommended.\n"
     ]
    },
    {
     "data": {
      "text/plain": [
       "{'sequence': 'This is a course about the Transformers library',\n",
       " 'labels': ['education', 'business', 'politics'],\n",
       " 'scores': [0.8445950150489807, 0.11197733134031296, 0.043427735567092896]}"
      ]
     },
     "execution_count": 1,
     "metadata": {},
     "output_type": "execute_result"
    }
   ],
   "source": [
    "from transformers import pipeline\n",
    "\n",
    "classifier = pipeline(\"zero-shot-classification\")\n",
    "classifier(\n",
    "    \"This is a course about the Transformers library\",\n",
    "    candidate_labels=[\"education\", \"politics\", \"business\"],\n",
    ")"
   ]
  },
  {
   "cell_type": "code",
   "execution_count": 2,
   "id": "3914733c-aa19-47a9-b336-65ba66adecb4",
   "metadata": {},
   "outputs": [
    {
     "data": {
      "text/plain": [
       "{'sequence': 'This is a course about the Transformers library',\n",
       " 'labels': ['statement', 'question'],\n",
       " 'scores': [0.6062209606170654, 0.3937789797782898]}"
      ]
     },
     "execution_count": 2,
     "metadata": {},
     "output_type": "execute_result"
    }
   ],
   "source": [
    "classifier(\n",
    "    \"This is a course about the Transformers library\",\n",
    "    candidate_labels=[\"question\",\"statement\"],\n",
    ")"
   ]
  },
  {
   "cell_type": "code",
   "execution_count": 8,
   "id": "ef8dee08-58b0-4627-9c3e-03161a25db1d",
   "metadata": {},
   "outputs": [
    {
     "data": {
      "text/plain": [
       "{'sequence': 'What is the meaning of life?',\n",
       " 'labels': ['question', 'statement'],\n",
       " 'scores': [0.8695647716522217, 0.1304352730512619]}"
      ]
     },
     "execution_count": 8,
     "metadata": {},
     "output_type": "execute_result"
    }
   ],
   "source": [
    "classifier(\n",
    "    \"What is the meaning of life?\",\n",
    "    candidate_labels=[\"question\",\"statement\"],\n",
    ")"
   ]
  },
  {
   "cell_type": "code",
   "execution_count": 4,
   "id": "73cb0fe7-8e26-420e-9501-3c5981654b93",
   "metadata": {},
   "outputs": [
    {
     "data": {
      "text/plain": [
       "{'sequence': 'What, in a big, quick overview, in your view, what types of GANs are there and what other generative models besides GANs are there?',\n",
       " 'labels': ['question', 'statement'],\n",
       " 'scores': [0.8937023878097534, 0.10629763454198837]}"
      ]
     },
     "execution_count": 4,
     "metadata": {},
     "output_type": "execute_result"
    }
   ],
   "source": [
    "classifier(\n",
    "    \"What, in a big, quick overview, in your view, what types of GANs are there and what other generative models besides GANs are there?\",\n",
    "    candidate_labels=[\"question\",\"statement\"],\n",
    ")"
   ]
  },
  {
   "cell_type": "code",
   "execution_count": null,
   "id": "79eef906-3195-4937-b1f5-af7548540d4e",
   "metadata": {},
   "outputs": [],
   "source": [
    "Right, so, but you've seen the GAN stuff, right?"
   ]
  },
  {
   "cell_type": "code",
   "execution_count": 5,
   "id": "f65370dd-7c1f-43cb-b139-aec266d2518e",
   "metadata": {},
   "outputs": [
    {
     "data": {
      "text/plain": [
       "{'sequence': \"What's specific to GANs is that we have a two player game in the game theoretic sense.\",\n",
       " 'labels': ['question', 'statement'],\n",
       " 'scores': [0.7067391872406006, 0.2932608127593994]}"
      ]
     },
     "execution_count": 5,
     "metadata": {},
     "output_type": "execute_result"
    }
   ],
   "source": [
    "classifier(\n",
    "    \"What's specific to GANs is that we have a two player game in the game theoretic sense.\",\n",
    "    candidate_labels=[\"question\",\"statement\"],\n",
    ")"
   ]
  },
  {
   "cell_type": "code",
   "execution_count": 6,
   "id": "ac8a87bc-1c06-4aa6-993c-1d98b6143f15",
   "metadata": {},
   "outputs": [
    {
     "data": {
      "text/plain": [
       "{'sequence': \"Right, so, but you've seen the GAN stuff, right?\",\n",
       " 'labels': ['question', 'statement'],\n",
       " 'scores': [0.5612645149230957, 0.4387354552745819]}"
      ]
     },
     "execution_count": 6,
     "metadata": {},
     "output_type": "execute_result"
    }
   ],
   "source": [
    "classifier(\n",
    "    \"Right, so, but you've seen the GAN stuff, right?\",\n",
    "    candidate_labels=[\"question\",\"statement\"],\n",
    ")"
   ]
  },
  {
   "cell_type": "code",
   "execution_count": 45,
   "id": "3affdb02-b2b6-4f04-aff1-326100cd2195",
   "metadata": {},
   "outputs": [
    {
     "data": {
      "text/plain": [
       "{'sequence': \"What's specific to GANs is that we have a two player game in the game theoretic sense.\",\n",
       " 'labels': ['answer', 'query', 'unclear'],\n",
       " 'scores': [0.5993391275405884, 0.2449674904346466, 0.15569335222244263]}"
      ]
     },
     "execution_count": 45,
     "metadata": {},
     "output_type": "execute_result"
    }
   ],
   "source": [
    "classifier(\n",
    "    \"What's specific to GANs is that we have a two player game in the game theoretic sense.\",\n",
    "    candidate_labels=[\"query\",\"answer\",\"unclear\"],\n",
    ")"
   ]
  },
  {
   "cell_type": "code",
   "execution_count": 44,
   "id": "3d56d1a3-d37a-450e-b1d1-f3843b26a063",
   "metadata": {},
   "outputs": [
    {
     "data": {
      "text/plain": [
       "{'sequence': 'What is the meaning of life?',\n",
       " 'labels': ['query', 'unclear', 'answer'],\n",
       " 'scores': [0.5406132340431213, 0.4559023678302765, 0.0034844218753278255]}"
      ]
     },
     "execution_count": 44,
     "metadata": {},
     "output_type": "execute_result"
    }
   ],
   "source": [
    "classifier(\n",
    "    \"What is the meaning of life?\",\n",
    "    candidate_labels=[\"query\",\"answer\",\"unclear\"],\n",
    ")"
   ]
  },
  {
   "cell_type": "code",
   "execution_count": 15,
   "id": "35be118a-d494-4de3-a6a2-2fa2e8adcce3",
   "metadata": {},
   "outputs": [
    {
     "data": {
      "text/plain": [
       "{'sequence': 'I have a specific query about that.',\n",
       " 'labels': ['query', 'answer'],\n",
       " 'scores': [0.9913134574890137, 0.008686511777341366]}"
      ]
     },
     "execution_count": 15,
     "metadata": {},
     "output_type": "execute_result"
    }
   ],
   "source": [
    "classifier(\n",
    "    \"I have a specific query about that.\",\n",
    "    candidate_labels=[\"query\",\"answer\"],\n",
    ")"
   ]
  },
  {
   "cell_type": "code",
   "execution_count": 46,
   "id": "efaee0ad-fda2-4e7f-a12a-a0a007a50fe5",
   "metadata": {},
   "outputs": [
    {
     "data": {
      "text/plain": [
       "{'sequence': \"In response to your question I would counter that it doesn't matter\",\n",
       " 'labels': ['query', 'answer', 'unclear'],\n",
       " 'scores': [0.4400186538696289, 0.38551005721092224, 0.17447131872177124]}"
      ]
     },
     "execution_count": 46,
     "metadata": {},
     "output_type": "execute_result"
    }
   ],
   "source": [
    "classifier(\n",
    "    \"In response to your question I would counter that it doesn't matter\",\n",
    "    candidate_labels=[\"query\",\"answer\",\"unclear\"],\n",
    ")"
   ]
  },
  {
   "cell_type": "code",
   "execution_count": 18,
   "id": "caec54e8-f164-408c-afca-024974e39b08",
   "metadata": {},
   "outputs": [],
   "source": [
    "def rev_sentence(sentence):\n",
    " \n",
    "    # find all the words in sentence\n",
    "    words = re.findall('\\w+', sentence)\n",
    " \n",
    "    # Backward iterate over list of words and join using space\n",
    "    reverse_sentence = ' '.join(words[i] for i in range(len(words)-1, -1, -1))\n",
    " \n",
    "    # finally return the joined string\n",
    "    return reverse_sentence"
   ]
  },
  {
   "cell_type": "code",
   "execution_count": 21,
   "id": "2a47a284-dd65-46bd-b741-f46b92777aba",
   "metadata": {},
   "outputs": [],
   "source": [
    "inp_str=classifier(\"I have a specific query about that.\",candidate_labels=[\"query\", \"answer\"])"
   ]
  },
  {
   "cell_type": "code",
   "execution_count": 22,
   "id": "f5110a4c-e188-4f3a-93ae-6e0e69c03ed5",
   "metadata": {},
   "outputs": [
    {
     "data": {
      "text/plain": [
       "dict"
      ]
     },
     "execution_count": 22,
     "metadata": {},
     "output_type": "execute_result"
    }
   ],
   "source": [
    "type(inp_str)"
   ]
  },
  {
   "cell_type": "code",
   "execution_count": 24,
   "id": "7cd9b41a-6636-4b5e-96d3-3b869b1ed900",
   "metadata": {},
   "outputs": [
    {
     "data": {
      "text/plain": [
       "['query', 'answer']"
      ]
     },
     "execution_count": 24,
     "metadata": {},
     "output_type": "execute_result"
    }
   ],
   "source": [
    "inp_str['labels']"
   ]
  },
  {
   "cell_type": "code",
   "execution_count": 43,
   "id": "9018979e-fcc9-43d7-9d5a-683611e21f33",
   "metadata": {},
   "outputs": [
    {
     "data": {
      "text/plain": [
       "{'sequence': \"I wouldn't characterize the vision or dream, simply that there are obviously two massive revolutions in, in the automobile industry.\",\n",
       " 'labels': ['unclear', 'query', 'answer'],\n",
       " 'scores': [0.9048845767974854, 0.0637633353471756, 0.031352099031209946]}"
      ]
     },
     "execution_count": 43,
     "metadata": {},
     "output_type": "execute_result"
    }
   ],
   "source": [
    "classifier(\n",
    "    \"I wouldn't characterize the vision or dream, simply that there are obviously two massive revolutions in, in the automobile industry.\",\n",
    "    candidate_labels=[\"query\",\"answer\",\"unclear\"],\n",
    ")"
   ]
  },
  {
   "cell_type": "code",
   "execution_count": null,
   "id": "51e1cd9b-d050-44df-a039-a8e3fdba1562",
   "metadata": {},
   "outputs": [],
   "source": []
  },
  {
   "cell_type": "markdown",
   "id": "5e5cf0c8-e851-4e4a-85fa-edc2605f1a2d",
   "metadata": {},
   "source": [
    "# Implementation for Lex"
   ]
  },
  {
   "cell_type": "code",
   "execution_count": 11,
   "id": "b865b982-2d3a-4b54-9344-c33a385a5850",
   "metadata": {},
   "outputs": [],
   "source": [
    "import pandas as pd\n",
    "import numpy as np"
   ]
  },
  {
   "cell_type": "code",
   "execution_count": 12,
   "id": "4c897cb3-dcf6-4b81-907c-0d2b6126498c",
   "metadata": {},
   "outputs": [
    {
     "data": {
      "text/html": [
       "<div>\n",
       "<style scoped>\n",
       "    .dataframe tbody tr th:only-of-type {\n",
       "        vertical-align: middle;\n",
       "    }\n",
       "\n",
       "    .dataframe tbody tr th {\n",
       "        vertical-align: top;\n",
       "    }\n",
       "\n",
       "    .dataframe thead th {\n",
       "        text-align: right;\n",
       "    }\n",
       "</style>\n",
       "<table border=\"1\" class=\"dataframe\">\n",
       "  <thead>\n",
       "    <tr style=\"text-align: right;\">\n",
       "      <th></th>\n",
       "      <th>Unnamed: 0</th>\n",
       "      <th>captions</th>\n",
       "      <th>title</th>\n",
       "    </tr>\n",
       "  </thead>\n",
       "  <tbody>\n",
       "    <tr>\n",
       "      <th>0</th>\n",
       "      <td>0</td>\n",
       "      <td>As part of MIT course 6S099, Artificial Gener...</td>\n",
       "      <td>Max Tegmark: Life 3.0 | Lex Fridman Podcast #1</td>\n",
       "    </tr>\n",
       "    <tr>\n",
       "      <th>1</th>\n",
       "      <td>1</td>\n",
       "      <td>As part of MIT course 6S099 on artificial gen...</td>\n",
       "      <td>Christof Koch: Consciousness | Lex Fridman Pod...</td>\n",
       "    </tr>\n",
       "    <tr>\n",
       "      <th>2</th>\n",
       "      <td>2</td>\n",
       "      <td>You've studied the human mind, cognition, lan...</td>\n",
       "      <td>Steven Pinker: AI in the Age of Reason | Lex F...</td>\n",
       "    </tr>\n",
       "    <tr>\n",
       "      <th>3</th>\n",
       "      <td>3</td>\n",
       "      <td>What difference between biological neural net...</td>\n",
       "      <td>Yoshua Bengio: Deep Learning | Lex Fridman Pod...</td>\n",
       "    </tr>\n",
       "    <tr>\n",
       "      <th>4</th>\n",
       "      <td>4</td>\n",
       "      <td>The following is a conversation with Vladimir...</td>\n",
       "      <td>Vladimir Vapnik: Statistical Learning | Lex Fr...</td>\n",
       "    </tr>\n",
       "  </tbody>\n",
       "</table>\n",
       "</div>"
      ],
      "text/plain": [
       "   Unnamed: 0                                           captions  \\\n",
       "0           0   As part of MIT course 6S099, Artificial Gener...   \n",
       "1           1   As part of MIT course 6S099 on artificial gen...   \n",
       "2           2   You've studied the human mind, cognition, lan...   \n",
       "3           3   What difference between biological neural net...   \n",
       "4           4   The following is a conversation with Vladimir...   \n",
       "\n",
       "                                               title  \n",
       "0     Max Tegmark: Life 3.0 | Lex Fridman Podcast #1  \n",
       "1  Christof Koch: Consciousness | Lex Fridman Pod...  \n",
       "2  Steven Pinker: AI in the Age of Reason | Lex F...  \n",
       "3  Yoshua Bengio: Deep Learning | Lex Fridman Pod...  \n",
       "4  Vladimir Vapnik: Statistical Learning | Lex Fr...  "
      ]
     },
     "execution_count": 12,
     "metadata": {},
     "output_type": "execute_result"
    }
   ],
   "source": [
    "df=pd.read_csv('lexAllEpisodes.csv')\n",
    "df.head()"
   ]
  },
  {
   "cell_type": "code",
   "execution_count": 13,
   "id": "6389f420-027e-4a87-89e8-e36bdd9a0737",
   "metadata": {},
   "outputs": [
    {
     "data": {
      "text/html": [
       "<div>\n",
       "<style scoped>\n",
       "    .dataframe tbody tr th:only-of-type {\n",
       "        vertical-align: middle;\n",
       "    }\n",
       "\n",
       "    .dataframe tbody tr th {\n",
       "        vertical-align: top;\n",
       "    }\n",
       "\n",
       "    .dataframe thead th {\n",
       "        text-align: right;\n",
       "    }\n",
       "</style>\n",
       "<table border=\"1\" class=\"dataframe\">\n",
       "  <thead>\n",
       "    <tr style=\"text-align: right;\">\n",
       "      <th></th>\n",
       "      <th>captions</th>\n",
       "    </tr>\n",
       "  </thead>\n",
       "  <tbody>\n",
       "    <tr>\n",
       "      <th>0</th>\n",
       "      <td>As part of MIT course 6S099, Artificial Gener...</td>\n",
       "    </tr>\n",
       "    <tr>\n",
       "      <th>1</th>\n",
       "      <td>As part of MIT course 6S099 on artificial gen...</td>\n",
       "    </tr>\n",
       "    <tr>\n",
       "      <th>2</th>\n",
       "      <td>You've studied the human mind, cognition, lan...</td>\n",
       "    </tr>\n",
       "    <tr>\n",
       "      <th>3</th>\n",
       "      <td>What difference between biological neural net...</td>\n",
       "    </tr>\n",
       "    <tr>\n",
       "      <th>4</th>\n",
       "      <td>The following is a conversation with Vladimir...</td>\n",
       "    </tr>\n",
       "  </tbody>\n",
       "</table>\n",
       "</div>"
      ],
      "text/plain": [
       "                                            captions\n",
       "0   As part of MIT course 6S099, Artificial Gener...\n",
       "1   As part of MIT course 6S099 on artificial gen...\n",
       "2   You've studied the human mind, cognition, lan...\n",
       "3   What difference between biological neural net...\n",
       "4   The following is a conversation with Vladimir..."
      ]
     },
     "execution_count": 13,
     "metadata": {},
     "output_type": "execute_result"
    }
   ],
   "source": [
    "df.drop([\"Unnamed: 0\",\"title\"],inplace=True,axis=1)\n",
    "df.head()"
   ]
  },
  {
   "cell_type": "code",
   "execution_count": 14,
   "id": "0c102038-5e97-4dd9-99a8-f570a0512535",
   "metadata": {
    "scrolled": true,
    "tags": []
   },
   "outputs": [
    {
     "data": {
      "text/plain": [
       "\" The following is a conversation with Elon Musk. He's the CEO of Tesla, SpaceX, Neuralink, and a cofounder of several other companies. This conversation is part of the Artificial Intelligence podcast. The series includes leading researchers in academia and industry, including CEOs and CTOs of automotive, robotics, AI, and technology companies. This conversation happened after the release of the paper from our group at MIT on Driver Functional Vigilance, during use of Tesla's Autopilot. The Tesla team reached out to me offering a podcast conversation with Mr. Musk. I accepted, with full control of questions I could ask and the choice of what is released publicly. I ended up editing out nothing of substance. I've never spoken with Elon before this conversation, publicly or privately. Neither he nor his companies have any influence on my opinion, nor on the rigor and integrity of the scientific method that I practice in my position at MIT. Tesla has never financially supported my research, and I've never owned a Tesla vehicle, and I've never owned Tesla stock. This podcast is not a scientific paper. It is a conversation. I respect Elon as I do all other leaders and engineers I've spoken with. We agree on some things and disagree on others. My goal is always with these conversations is to understand the way the guest sees the world. One particular point of disagreement in this conversation was the extent to which camera based driver monitoring will improve outcomes and for how long it will remain relevant for AI assisted driving. As someone who works on and is fascinated by human centered artificial intelligence, I believe that if implemented and integrated effectively, camera based driver monitoring is likely to be of benefit in both the short term and the long term. In contrast, Elon and Tesla's focus is on the improvement of autopilot such that it's statistical safety benefits override any concern of human behavior and psychology. Elon and I may not agree on everything, but I deeply respect the engineering and innovation behind the efforts that he leads. My goal here is to catalyze a rigorous nuanced and objective discussion in industry and academia on AI assisted driving. One that ultimately makes for a safer and better world. And now here's my conversation with Elon Musk. What was the vision, the dream of autopilot when, in the beginning, the big picture system level, when it was first conceived and started being installed in 2014, the hardware and the cars, what was the vision, the dream? I wouldn't characterize the vision or dream, simply that there are obviously two massive revolutions in, in the automobile industry. One is the transition to electrification and then the other is autonomy. And it became obvious to me that in the future, any car that does not have autonomy would be about as useful as a horse, which is not to say that there's no use, it's just rare and somewhat idiosyncratic if somebody has a horse at this point. It's just obvious that cars will drive themselves completely. It's just a question of time. And if we did not participate in the autonomy revolution, then our cars would not be useful to people relative to cars that are autonomous. I mean, an autonomous car is arguably worth five to 10 times more than a car which is not autonomous. In the long term. Turns out what you mean by long term, but let's say at least for the next five years, perhaps 10 years. So there are a lot of very interesting design choices with autopilot early on. First is showing on the instrument cluster or in the Model 3 on the center stack display, what the combined sensor suite sees, what was the thinking behind that choice? Was there a debate? What was the process? The whole point of the display is to provide a health check on the vehicle's perception of reality. So the vehicle's taking information from a bunch of sensors, primarily cameras, but also radar and ultrasonics, GPS, and so forth. And then that, that information is then rendered into vector space and that, you know, with a bunch of objects with, with properties like lane lines and traffic lights and other cars. And then in vector space that is rerendered onto a display. So you can confirm whether the car knows what's going on or not by looking out the window. Right. I think that's an extremely powerful thing for people to get an understanding. So it become one with the system and understanding what the system is capable of. Now, have you considered showing more? So if we look at the computer vision, you know, like road segmentation, lane detection, vehicle detection, object detection, underlying the system, there is at the edges, some uncertainty. Have you considered revealing the parts that the vehicle is in, the parts that the, the uncertainty in the system, the sort of probabilities associated with, with say image recognition or something like that? Yeah. So right now it shows like the vehicles in the vicinity, a very clean, crisp image. And people do confirm that there's a car in front of me and the system sees there's a car in front of me, but to help people build an intuition of what computer vision is by showing some of the uncertainty. Well, I think it's, in my car, I always look at the sort of the debug view. And there's, there's two debug views. Uh, one is augmented vision, uh, where, which I'm sure you've seen where it's basically, we draw boxes and labels around objects that are recognized. And then there's a work called the visualizer, which is basically vector space representation, summing up the input from all sensors that doesn't, that doesn't, does not show any pictures, but it shows, uh, all of the, it's basically shows the car's view of, of, of the world in vector space. Um, but I think this is very difficult for people to know, normal people to understand, they would not know what they're looking at. So it's almost an HMI challenge to the current things that are being displayed is optimized for the general public understanding of what the system is capable of. It's like, if you have no idea what, how computer vision works or anything, you can sort of look at the screen and see if the car knows what's going on. And then if you're, you know, if you're a development engineer or if you're, you know, if you're, if you have the development build like I do, then you can see, uh, you know, all the debug information, but those would just be like total diverse to most people. What's your view on how to best distribute effort. So there's three, I would say technical aspects of autopilot that are really important. So it's the underlying algorithms, like the neural network architecture, there's the data, so that the strain on, and then there's a hardware development. There may be others, but so look, algorithm, data, hardware, you don't, you only have so much money, only have so much time, what do you think is the most important thing to, to, uh, allocate resources to, or do you see it as pretty evenly distributed between those three? We automatically get a fast amounts of data because all of our cars have eight external facing cameras and radar, and usually 12 ultrasonic sensors, uh, GPS, obviously, um, and, uh, IMU. And so we basically have a fleet that has, uh, and we've got about 400,000 cars on the road that have that level of data, I think you keep quite close track of it actually. Yes. Yeah. So we're, we're approaching half a million cars on the road that have the full sensor suite. Um, so this is, I'm, I'm not sure how many other cars on the road have the sensor suite, but I would be surprised if it's more than 5,000, which means that we have 99% of all the data. So there's this huge inflow of data. Absolutely. Massive inflow of data, and then we, it's, it's taken us about three years, but now we've finally developed our full self driving computer, which can process, uh, and in order of magnitude as much as the Nvidia system that we currently have in the, in the cars, and it's really just a, to use it, you've unplugged the Nvidia computer and plug the Tesla computer in and that's it. And it's, it's, uh, in fact, we're not even, we're still exploring the boundaries of capabilities, uh, but we're able to run the cameras at full frame rate, full resolution, uh, not even crop the images and it's still got headroom even on one of the systems, the harder full self driving computer is really two computers, two systems on a chip that are fully redundant. So you could put a bolt through basically any part of that system and it still works. The redundancy, are they perfect copies of each other or also it's purely for redundancy as opposed to an argue machine kind of architecture where they're both making decisions. This is purely for redundancy. I think it would more like it's, if you have a twin engine aircraft, uh, commercial aircraft, the system will operate best if both systems are operating, but it's, it's capable of operating safely on one. So, but as it is right now, we can just run, we're, we haven't even hit the, the, the edge of performance. So there's no need to actually distribute functionality across both SOCs. We can actually just run a full duplicate on, on, on each one. Do you haven't really explored or hit the limit of this? Not yet at the limiter. So the magic of deep learning is that it gets better with data. You said there's a huge inflow of data, but the thing about driving the really valuable data to learn from is the edge cases. So how do you, I mean, I've, I've heard you talk somewhere about, uh, autopilot disengagements being an important moment of time to use. Is there other edge cases where you can, you know, you can, you can, you can drive, is there other edge cases or perhaps can you speak to those edge cases? What aspects of that might be valuable or if you have other ideas, how to discover more and more and more edge cases in driving? Well, there's a lot of things that are learned. There are certainly edge cases where I say somebody is on autopilot and they, they take over and then, okay, that, that, that, that's a trigger that goes to our system that says, okay, did they take over for convenience or do they take over because the autopilot wasn't working properly. There's also like, let's say we're, we're trying to figure out what is the optimal spline for traversing an intersection. Um, then then the ones where there are no interventions and are the right ones. So you then say, okay, when it looks like this, do the following. And then, and then you get the optimal spline for a complex, uh, navigating a complex, uh, intersection. So that's for this. So there's kind of the common case you're trying to, uh, capture a huge amount of samples of a particular intersection, how, when things went right, and then there's the edge case where, uh, as you said, not for convenience, but something didn't go exactly right. Somebody took over, somebody asserted manual control from autopilot. And really like the way to look at this as view all input is error. If the user had to do input, it does something all input is error. That's a powerful line. That's a powerful line to think of it that way, because they may very well be error, but if you want to exit the highway, or if you want to, uh, it's a navigation decision that all autopilot is not currently designed to do. Then the driver takes over. How do you know the difference? That's going to change with navigate an autopilot, which we were just released and without still confirm. So the navigation, like lane change based, like a certain control in order to change, do a lane change or exit a freeway or, or doing a highway under change, the vast majority of that will go away with, um, the release that just went out. Yeah. So that, that I don't think people quite understand how big of a step that is. Yeah, they don't. So if you drive the car, then you do. So you still have to keep your hands on the steering wheel currently when it does the automatic lane change. What are, so there's, there's these big leaps through the development of autopilot through its history and what stands out to you as the big leaps? I would say this one, navigate an autopilot without, uh, confirm without having to confirm is a huge leap. It is a huge leap. It also automatically overtakes low cars. So it's, it's both navigation, um, and seeking the fastest lane. So it'll, it'll, it'll, you know, overtake a slow cause, um, and exit the freeway and take highway interchanges. And, and then, uh, we have, uh, traffic lights, uh, recognition, which introduced initially as a, as a warning. I mean, on the development version that I'm driving, the car fully, fully stops and goes at traffic lights. So those are the steps, right? You've just mentioned something sort of inkling a step towards full autonomy. What would you say are the biggest technological roadblocks to full self driving? Actually, I don't think, I think we just, the full self driving computer that we just, uh, that the Tesla, what we call the FSD computer, uh, that that's now in production. Uh, so if you order, uh, any model SRX or any model three that has the full self driving package, you'll get the FSD computer. That, that was, that's important to have enough, uh, base computation, uh, then refining the neural net and the control software, uh, which, but all of that can just be provided as an over there update. The thing that's really profound and where I'll be emphasizing at the, uh, sort of what that investor day that we're having focused on autonomy is that the cars currently being produced with the hardware currently being produced is capable of full self driving, but capable is an interesting word because, um, like the hardware is, and as we refine the software, the capabilities will increase dramatically, um, and then the reliability will increase dramatically, and then it will receive regulatory approval. So essentially buying a car today is an investment in the future. You're essentially buying a car, you're buying the, I think the most profound thing is that if you buy a Tesla today, I believe you are buying an appreciating asset, not a depreciating asset. So that's a really important statement there because if hardware is capable enough, that's the hard thing to upgrade usually. Exactly. So then the rest is a software problem. Yes. Software has no marginal cost really. But what's your intuition on the software side? How hard are the remaining steps to, to get it to where, um, you know, uh, the, the experience, uh, not just the safety, but the full experience is something that people would, uh, enjoy. Well, I think people enjoy it very much so on, on, on the highways. It's, it's a total game changer for quality of life for using, you know, Tesla autopilot on the highways, uh, so it's really just extending that functionality to city streets, adding in the traffic light recognition, uh, navigating complex intersections and, um, and then, uh, being able to navigate complicated parking lots so the car can, uh, exit a parking space and come and find you, even if it's in a complete maze of a parking lot, um, and, and, and, and then if, and then you can just, it can just drop you off and find a parking spot by itself. Yeah. In terms of enjoyability and something that people would, uh, would actually find a lot of use from the parking lot is a, is a really, you know, it's, it's rich of annoyance when you have to do it manually. So there's a lot of benefit to be gained from automation there. So let me start injecting the human into this discussion a little bit. Uh, so let's talk about, uh, the, the, the, the, the, the, the, the, the, the, about full autonomy. If you look at the current level four vehicles being tested on road, like Waymo and so on, they're only technically autonomous. They're really level two systems with just the different design philosophy, because there's always a safety driver in almost all cases and they're monitoring the system. Right. Do you see Tesla's full self driving as still for a time to come requiring supervision of the human being. So it's capabilities are powerful enough to drive, but nevertheless requires the human to still be supervising, just like a safety driver is in a other fully autonomous vehicles. I think it will require detecting hands on wheel for at least, uh, six months or something like that from here. It really is a question of like, from a regulatory standpoint, uh, what, how much safer than a person does autopilot need to be for it to be okay to not monitor the car, you know, and, and this is a debate that one can have it. And then if you, but you need, you know, a large sample, a large amount of data. Um, so you can prove with high confidence, statistically speaking, that the car is dramatically safer than a person, um, and that adding in the person monitoring does not materially affect the safety. So it might need to be like two or 300% safer than a person. And how do you prove that incidents per mile incidents per mile crashes and fatalities, fatalities would be a factor, but there, there are just not enough fatalities to be statistically significant at scale, but there are enough. Crashes, you know, there are far more crashes than there are fatalities. So you can assess what is the probability of a crash that then there's another step which probability of injury and probability of permanent injury, the probability of death, and all of those need to be a much better than a person, uh, by at least perhaps 200%. And you think there's, uh, the ability to have a healthy discourse with the regulatory bodies on this topic? I mean, there's no question that, um, but, um, regulators pay just disproportionate amount of attention to that, which generates press. This is just an objective fact. Um, and Tesla generates a lot of press. So the, you know, in the United States, this, I think almost, you know, uh, in the United States, this, I think almost 40,000 automotive deaths per year. Uh, but if there are four in Tesla, they'll probably receive a thousand times more press than anyone else. So the, the psychology of that is actually fascinating. I don't think we'll have enough time to talk about that, but I have to talk to you about the human side of things. So myself and our team at MIT recently released the paper on functional vigilance of drivers while using autopilot. This is work we've been doing since autopilot was first released publicly over three years ago, collecting video of driver faces and driver body. So I saw that you tweeted a quote from the abstract, so I can at least, uh, guess that you've glanced at it. Yeah, I read it. Can I talk you through what we found? Sure. Okay. So it appears that in the data that we've collected, that drivers are maintaining functional vigilance such that we're looking at 18,000 disengagement from autopilot, 18,900 and annotating, were they able to take over control in a timely manner? So they were there present looking at the road, uh, to take over control. Okay. So this, uh, goes against what, what many would predict from the body of literature on vigilance with automation. Now, the question is, do you think these results hold across the broader population? So ours is just a small subset. Do you think, uh, one of the criticism is that, you know, there's a small minority of drivers that may be highly responsible where their vigilance decrement would increase with autopilot use? I think this is all really going to be swept. I mean, the system's improving so much, so fast that this is going to be a mood point very soon where vigilance is like, if something's many times safer than a person, then adding a person, uh, does the, the, the effect on safety is, is limited. Um, and in fact, uh, it could be negative. That's really interesting. So the, uh, the, so the fact that a human may, some percent of the population may, uh, exhibit a vigilance decrement will not affect overall statistics numbers of safety. No, in fact, I think it will become, uh, very, very quickly, maybe even towards the end of this year, but I'd say I'd be shocked if it's not next year. At the latest, that, um, having the person, having a human intervene will decrease safety decrease. It's like, imagine if you're an elevator and it used to be that there were elevator operators, um, and, and you couldn't go on an elevator by yourself and work the lever to move between floors. Um, and now, uh, nobody wants it an elevator operator because the automated elevator that stops the floors is much safer than the elevator operator. And in fact, it would be quite dangerous to have someone with a lever that can move the elevator between floors. So that's a, that's a really powerful statement and really interesting one. But I also have to ask from a user experience and from a safety perspective, one of the passions for me algorithmically is a camera based detection of, uh, of just sensing the human, but detecting what the driver is looking at, cognitive load, body pose on the computer vision side, that's a fascinating problem. But do you, and there's many in industry believe you have to have camera based driver monitoring. Do you think there could be benefit gained from driver monitoring? If you have a system that's, that's at, that's at or below a human level reliability, then driver monitoring makes sense. But if your system is dramatically better, more likely to be better, more liable than, than a human, then drive monitoring monitoring is not just not help much. And, uh, like I said, you, you, just like, as an, you wouldn't want someone into like, you wouldn't want someone in the elevator, if you're in an elevator, do you really want someone with a big lever, some, some random person operating the elevator between floors? I wouldn't trust that or rather have the buttons. Okay. You're optimistic about the pace of improvement of the system that from what you've seen with the full self driving car computer, the rate of improvement is exponential. So one of the other very interesting design choices early on that connects to this is the operational design domain of autopilot. So where autopilot is able to be turned on the, so contrast another vehicle system that we're studying is the Cadillac SuperCrew system. That's in terms of ODD, very constrained to particular kinds of highways, well mapped, tested, but it's much narrower than the ODD of Tesla vehicles. What's there's, there's pros and... It's like ADD. Yeah. That's good. That's a, that's a good line. Uh, what was the design decision, uh, what, in that different philosophy of thinking where there's pros and cons, what we see with, uh, a wide ODD is drive Tesla drivers are able to explore more the limitations of the system, at least early on, and they understand together with the instrument cluster display, they start to understand what are the capabilities. So that's a benefit. The con is you go, you're letting drivers use it basically anywhere. So anyway, that could detect lanes with confidence. Was there a philosophy, uh, design decisions that were challenging that were being made there or from the very beginning, was that, uh, done on purpose with intent? Well, I mean, I think it's frankly, it's pretty crazy giving it, letting people drive a two ton death machine manually. Uh, that's crazy. Like, like in the future of people who are like, I can't believe anyone was just allowed to drive for one of these two ton death machines and they just drive wherever they wanted. Just like elevators. He was like, move the elevator with that lever, wherever you want. It can stop at halfway between floors if you want. It's pretty crazy. So it's going to seem like a mad thing in the future that people were driving cars. So I have a bunch of questions about the human psychology, about behavior and so on that would become that because, uh, you have faith in the AI system, uh, not faith, but, uh, the, both on the hardware side and the deep learning approach of learning from data will make it just far safer than humans. Yeah, exactly. Recently, there are a few hackers who, uh, tricked autopilot to act in unexpected ways with adversarial examples. So we all know that neural network systems are very sensitive to minor disturbances to these adversarial examples on input. Do you think it's possible to defend against something like this for the broader, for the industry? Sure. So can you elaborate on the, on the confidence behind that answer? Um, well the, you know, neural net is just like a basic bunch of matrix math. Or you have to be like a very sophisticated, somebody who really understands neural nets and like basically reverse engineer how the matrix is being built and then create a little thing that's just exactly, um, causes the matrix math to be slightly off. But it's very easy to then block it, block that by, by having basically anti negative recognition. It's like if you, if the system sees something that looks like a matrix hack, uh, exclude it, so it's such an easy thing to do. So learn both on the, the valid data and the invalid data. So basically learn on the adversarial examples to be able to exclude them. Yeah. Like you basically want to both know what is, what is a car and what is definitely not a car. And you train for this is a car and this is definitely not a car. Those are two different things. People have no idea neural nets really. They probably think neural nets are both like, you know, fishing net only. So as you know, so taking a step beyond just Tesla and autopilot, uh, current deep learning approaches still seem in some ways to be far from general intelligence systems. Do you think the current approaches will take us to general intelligence or do totally new ideas need to be invented? I think we're missing a few key ideas for general intelligence, general artificial general intelligence, but it's going to be upon us very quickly. And then we'll need to figure out what shall we do if we even have that choice? But it's amazing how people can't differentiate between say the narrow AI that, you know, allows a car to figure out what a lane line is and, and, and, you know, and navigate streets versus general intelligence. Like these are just very different things. Like your toaster and your computer are both machines, but one's much more sophisticated than another. You're confident with Tesla. You can create the world's best toaster. The world's best toaster. Yes. The world's best toaster. Yes. The world's best self driving. I'm, I, yes. To me right now, this seems game set match. I don't, I mean, that sounds, I don't want to be complacent or overconfident, but that's what it appears. That is just literally what it, how it appears right now. I could be wrong, but it appears to be the case that Tesla is vastly ahead of everyone. Do you think we will ever create an AI system that we can love and loves us back in a deep, meaningful way? Like in the movie, her, I think AI will be capable of convincing you to fall in love with it very well. And that's different than us humans. You know, we start getting into a metaphysical question of like, do emotions and thoughts exist in a different realm than the physical? And maybe they do. Maybe they don't. I don't know. But from a physics standpoint, I tend to think of things, you know, like physics was my main sort of training and from a physics standpoint, essentially, if it loves you in a way that is, that you can't tell whether it's real or not, it is real. That's a physics view of love. Yeah. If there's no, if you cannot just, if you cannot prove that it does not, if there's no, if there's no test that you can apply that would make it, allow you to tell the difference, then there is no difference. Right. And it's similar to seeing our world as simulation. There may not be a test to tell the difference between what the real world and the simulation, and therefore from a physics perspective, it might as well be the same thing. Yes. And there may be ways to test whether it's a simulation. There might be, I'm not saying there aren't, but you could certainly imagine that a simulation could correct that once an entity in the simulation found a way to detect the simulation, it could either restart, you know, pause the simulation, start a new simulation, or do one of many other things that then corrects for that error. So when maybe you or somebody else creates an AGI system and you get to ask her one question, what would that question be? What's outside the simulation? Elon, thank you so much for talking today. It was a pleasure. All right. Thank you.\""
      ]
     },
     "execution_count": 14,
     "metadata": {},
     "output_type": "execute_result"
    }
   ],
   "source": [
    "df['captions'].iloc[17]"
   ]
  },
  {
   "cell_type": "code",
   "execution_count": 39,
   "id": "d1b52286-41ee-4dd9-89d8-fceb80f1a6ce",
   "metadata": {},
   "outputs": [],
   "source": [
    "import re\n",
    "arr=[]\n",
    "c=0\n",
    "doc=df['captions'].iloc[17]\n",
    "sent=re.split('(?<=[\\.\\?\\!])\\s*', str(doc))\n",
    "for y in sent:\n",
    "    c+=1\n",
    "    if c >40:\n",
    "        break\n",
    "    # if classifier(y,candidate_labels=[\"query\", \"answer\"],)['labels'][0] == 'answer':\n",
    "    #     arr.append(y)\n",
    "    arr.append(y)\n",
    "    "
   ]
  },
  {
   "cell_type": "code",
   "execution_count": 40,
   "id": "9df42f8f-aa61-4d69-9e47-d0f788bc4ac9",
   "metadata": {},
   "outputs": [
    {
     "data": {
      "text/plain": [
       "[' The following is a conversation with Elon Musk.',\n",
       " \"He's the CEO of Tesla, SpaceX, Neuralink, and a cofounder of several other companies.\",\n",
       " 'This conversation is part of the Artificial Intelligence podcast.',\n",
       " 'The series includes leading researchers in academia and industry, including CEOs and CTOs of automotive, robotics, AI, and technology companies.',\n",
       " \"This conversation happened after the release of the paper from our group at MIT on Driver Functional Vigilance, during use of Tesla's Autopilot.\",\n",
       " 'The Tesla team reached out to me offering a podcast conversation with Mr.',\n",
       " 'Musk.',\n",
       " 'I accepted, with full control of questions I could ask and the choice of what is released publicly.',\n",
       " 'I ended up editing out nothing of substance.',\n",
       " \"I've never spoken with Elon before this conversation, publicly or privately.\",\n",
       " 'Neither he nor his companies have any influence on my opinion, nor on the rigor and integrity of the scientific method that I practice in my position at MIT.',\n",
       " \"Tesla has never financially supported my research, and I've never owned a Tesla vehicle, and I've never owned Tesla stock.\",\n",
       " 'This podcast is not a scientific paper.',\n",
       " 'It is a conversation.',\n",
       " \"I respect Elon as I do all other leaders and engineers I've spoken with.\",\n",
       " 'We agree on some things and disagree on others.',\n",
       " 'My goal is always with these conversations is to understand the way the guest sees the world.',\n",
       " 'One particular point of disagreement in this conversation was the extent to which camera based driver monitoring will improve outcomes and for how long it will remain relevant for AI assisted driving.',\n",
       " 'As someone who works on and is fascinated by human centered artificial intelligence, I believe that if implemented and integrated effectively, camera based driver monitoring is likely to be of benefit in both the short term and the long term.',\n",
       " \"In contrast, Elon and Tesla's focus is on the improvement of autopilot such that it's statistical safety benefits override any concern of human behavior and psychology.\",\n",
       " 'Elon and I may not agree on everything, but I deeply respect the engineering and innovation behind the efforts that he leads.',\n",
       " 'My goal here is to catalyze a rigorous nuanced and objective discussion in industry and academia on AI assisted driving.',\n",
       " 'One that ultimately makes for a safer and better world.',\n",
       " \"And now here's my conversation with Elon Musk.\",\n",
       " 'What was the vision, the dream of autopilot when, in the beginning, the big picture system level, when it was first conceived and started being installed in 2014, the hardware and the cars, what was the vision, the dream?',\n",
       " \"I wouldn't characterize the vision or dream, simply that there are obviously two massive revolutions in, in the automobile industry.\",\n",
       " 'One is the transition to electrification and then the other is autonomy.',\n",
       " \"And it became obvious to me that in the future, any car that does not have autonomy would be about as useful as a horse, which is not to say that there's no use, it's just rare and somewhat idiosyncratic if somebody has a horse at this point.\",\n",
       " \"It's just obvious that cars will drive themselves completely.\",\n",
       " \"It's just a question of time.\",\n",
       " 'And if we did not participate in the autonomy revolution, then our cars would not be useful to people relative to cars that are autonomous.',\n",
       " 'I mean, an autonomous car is arguably worth five to 10 times more than a car which is not autonomous.',\n",
       " 'In the long term.',\n",
       " \"Turns out what you mean by long term, but let's say at least for the next five years, perhaps 10 years.\",\n",
       " 'So there are a lot of very interesting design choices with autopilot early on.',\n",
       " 'First is showing on the instrument cluster or in the Model 3 on the center stack display, what the combined sensor suite sees, what was the thinking behind that choice?',\n",
       " 'Was there a debate?',\n",
       " 'What was the process?',\n",
       " \"The whole point of the display is to provide a health check on the vehicle's perception of reality.\",\n",
       " \"So the vehicle's taking information from a bunch of sensors, primarily cameras, but also radar and ultrasonics, GPS, and so forth.\"]"
      ]
     },
     "execution_count": 40,
     "metadata": {},
     "output_type": "execute_result"
    }
   ],
   "source": [
    "arr"
   ]
  },
  {
   "cell_type": "code",
   "execution_count": null,
   "id": "87e8288f-2701-4d3d-bf01-067b522ab346",
   "metadata": {},
   "outputs": [],
   "source": []
  },
  {
   "cell_type": "code",
   "execution_count": null,
   "id": "0dba3629-983e-4244-a33e-e8b0b626d6dd",
   "metadata": {},
   "outputs": [],
   "source": [
    "import re\n",
    "arr=[]\n",
    "for x in df['captions']:\n",
    "    sentences = re.split('(?<=[\\.\\?\\!])\\s*', str(x))\n",
    "    for y in sentences:\n",
    "        \n",
    "        arr.append(y)"
   ]
  },
  {
   "cell_type": "code",
   "execution_count": null,
   "id": "62b5593c-1e58-42bc-9328-f59657fa1e86",
   "metadata": {},
   "outputs": [],
   "source": []
  },
  {
   "cell_type": "code",
   "execution_count": null,
   "id": "d2477218-b7e3-448a-b9d5-4880c07746c0",
   "metadata": {},
   "outputs": [],
   "source": []
  },
  {
   "cell_type": "code",
   "execution_count": null,
   "id": "994c3eef-b926-4135-8335-2ce576fcb146",
   "metadata": {},
   "outputs": [],
   "source": []
  },
  {
   "cell_type": "markdown",
   "id": "905ab226-18ce-448a-b934-580a5149e4ce",
   "metadata": {},
   "source": [
    "# Applying Data Post Processing"
   ]
  },
  {
   "cell_type": "code",
   "execution_count": 47,
   "id": "847a2c56-2b36-4906-b907-c9eb699b9787",
   "metadata": {},
   "outputs": [
    {
     "data": {
      "text/html": [
       "<div>\n",
       "<style scoped>\n",
       "    .dataframe tbody tr th:only-of-type {\n",
       "        vertical-align: middle;\n",
       "    }\n",
       "\n",
       "    .dataframe tbody tr th {\n",
       "        vertical-align: top;\n",
       "    }\n",
       "\n",
       "    .dataframe thead th {\n",
       "        text-align: right;\n",
       "    }\n",
       "</style>\n",
       "<table border=\"1\" class=\"dataframe\">\n",
       "  <thead>\n",
       "    <tr style=\"text-align: right;\">\n",
       "      <th></th>\n",
       "      <th>Unnamed: 0</th>\n",
       "      <th>sentences</th>\n",
       "      <th>text</th>\n",
       "      <th>embeddings</th>\n",
       "      <th>scores</th>\n",
       "    </tr>\n",
       "  </thead>\n",
       "  <tbody>\n",
       "    <tr>\n",
       "      <th>0</th>\n",
       "      <td>499</td>\n",
       "      <td>I think it, I think the actual, if there is a ...</td>\n",
       "      <td>I think it, I think the actual, if there is a ...</td>\n",
       "      <td>[0.23154689371585846, -0.35983163118362427, -0...</td>\n",
       "      <td>18.379757</td>\n",
       "    </tr>\n",
       "    <tr>\n",
       "      <th>1</th>\n",
       "      <td>498</td>\n",
       "      <td>I have three short answers to it.</td>\n",
       "      <td>I have three short answers to it.</td>\n",
       "      <td>[-0.12184280157089233, -0.3217526972293854, -0...</td>\n",
       "      <td>18.368336</td>\n",
       "    </tr>\n",
       "    <tr>\n",
       "      <th>2</th>\n",
       "      <td>497</td>\n",
       "      <td>How fundamental is it to what it means to be h...</td>\n",
       "      <td>How fundamental is it to what it means to be h...</td>\n",
       "      <td>[-0.06816602498292923, -0.13269241154193878, -...</td>\n",
       "      <td>18.354920</td>\n",
       "    </tr>\n",
       "    <tr>\n",
       "      <th>3</th>\n",
       "      <td>496</td>\n",
       "      <td>Let me ask you about the meaning.</td>\n",
       "      <td>Let me ask you about the meaning.</td>\n",
       "      <td>[-0.22078101336956024, -0.3527880609035492, -0...</td>\n",
       "      <td>18.345945</td>\n",
       "    </tr>\n",
       "    <tr>\n",
       "      <th>4</th>\n",
       "      <td>495</td>\n",
       "      <td>You know, and it's an interesting philosophy o...</td>\n",
       "      <td>You know, and it's an interesting philosophy o...</td>\n",
       "      <td>[0.03766660392284393, -0.028108444064855576, -...</td>\n",
       "      <td>18.344402</td>\n",
       "    </tr>\n",
       "    <tr>\n",
       "      <th>...</th>\n",
       "      <td>...</td>\n",
       "      <td>...</td>\n",
       "      <td>...</td>\n",
       "      <td>...</td>\n",
       "      <td>...</td>\n",
       "    </tr>\n",
       "    <tr>\n",
       "      <th>495</th>\n",
       "      <td>13</td>\n",
       "      <td>What is the meaning of life?</td>\n",
       "      <td>What is the meaning of life?</td>\n",
       "      <td>[0.05093572288751602, -0.3070063591003418, -0....</td>\n",
       "      <td>0.000000</td>\n",
       "    </tr>\n",
       "    <tr>\n",
       "      <th>496</th>\n",
       "      <td>14</td>\n",
       "      <td>What is the meaning of life?</td>\n",
       "      <td>What is the meaning of life?</td>\n",
       "      <td>[0.05093572288751602, -0.3070063591003418, -0....</td>\n",
       "      <td>0.000000</td>\n",
       "    </tr>\n",
       "    <tr>\n",
       "      <th>497</th>\n",
       "      <td>15</td>\n",
       "      <td>What is the meaning of life?</td>\n",
       "      <td>What is the meaning of life?</td>\n",
       "      <td>[0.05093572288751602, -0.3070063591003418, -0....</td>\n",
       "      <td>0.000000</td>\n",
       "    </tr>\n",
       "    <tr>\n",
       "      <th>498</th>\n",
       "      <td>16</td>\n",
       "      <td>What is the meaning of life?</td>\n",
       "      <td>What is the meaning of life?</td>\n",
       "      <td>[0.05093572288751602, -0.3070063591003418, -0....</td>\n",
       "      <td>0.000000</td>\n",
       "    </tr>\n",
       "    <tr>\n",
       "      <th>499</th>\n",
       "      <td>0</td>\n",
       "      <td>What is the meaning of life?</td>\n",
       "      <td>What is the meaning of life?</td>\n",
       "      <td>[0.05093572288751602, -0.3070063591003418, -0....</td>\n",
       "      <td>0.000000</td>\n",
       "    </tr>\n",
       "  </tbody>\n",
       "</table>\n",
       "<p>500 rows × 5 columns</p>\n",
       "</div>"
      ],
      "text/plain": [
       "     Unnamed: 0                                          sentences  \\\n",
       "0           499  I think it, I think the actual, if there is a ...   \n",
       "1           498                  I have three short answers to it.   \n",
       "2           497  How fundamental is it to what it means to be h...   \n",
       "3           496                  Let me ask you about the meaning.   \n",
       "4           495  You know, and it's an interesting philosophy o...   \n",
       "..          ...                                                ...   \n",
       "495          13                       What is the meaning of life?   \n",
       "496          14                       What is the meaning of life?   \n",
       "497          15                       What is the meaning of life?   \n",
       "498          16                       What is the meaning of life?   \n",
       "499           0                       What is the meaning of life?   \n",
       "\n",
       "                                                  text  \\\n",
       "0    I think it, I think the actual, if there is a ...   \n",
       "1                    I have three short answers to it.   \n",
       "2    How fundamental is it to what it means to be h...   \n",
       "3                    Let me ask you about the meaning.   \n",
       "4    You know, and it's an interesting philosophy o...   \n",
       "..                                                 ...   \n",
       "495                       What is the meaning of life?   \n",
       "496                       What is the meaning of life?   \n",
       "497                       What is the meaning of life?   \n",
       "498                       What is the meaning of life?   \n",
       "499                       What is the meaning of life?   \n",
       "\n",
       "                                            embeddings     scores  \n",
       "0    [0.23154689371585846, -0.35983163118362427, -0...  18.379757  \n",
       "1    [-0.12184280157089233, -0.3217526972293854, -0...  18.368336  \n",
       "2    [-0.06816602498292923, -0.13269241154193878, -...  18.354920  \n",
       "3    [-0.22078101336956024, -0.3527880609035492, -0...  18.345945  \n",
       "4    [0.03766660392284393, -0.028108444064855576, -...  18.344402  \n",
       "..                                                 ...        ...  \n",
       "495  [0.05093572288751602, -0.3070063591003418, -0....   0.000000  \n",
       "496  [0.05093572288751602, -0.3070063591003418, -0....   0.000000  \n",
       "497  [0.05093572288751602, -0.3070063591003418, -0....   0.000000  \n",
       "498  [0.05093572288751602, -0.3070063591003418, -0....   0.000000  \n",
       "499  [0.05093572288751602, -0.3070063591003418, -0....   0.000000  \n",
       "\n",
       "[500 rows x 5 columns]"
      ]
     },
     "execution_count": 47,
     "metadata": {},
     "output_type": "execute_result"
    }
   ],
   "source": [
    "mol=pd.read_csv('MeaningOfLife.csv')\n",
    "mol"
   ]
  },
  {
   "cell_type": "code",
   "execution_count": 49,
   "id": "3e19c820-c2fc-4974-b17a-c752c11b8470",
   "metadata": {},
   "outputs": [],
   "source": [
    "mola=[]\n",
    "for x in mol['sentences']:\n",
    "    if classifier(x,candidate_labels=[\"query\", \"answer\"],)['labels'][0] == 'answer':\n",
    "        mola.append(x)\n",
    "    "
   ]
  },
  {
   "cell_type": "code",
   "execution_count": 50,
   "id": "8073796a-f815-4d2b-8954-2079d8c4869b",
   "metadata": {},
   "outputs": [
    {
     "data": {
      "text/plain": [
       "['I have three short answers to it.',\n",
       " \"You know, and it's an interesting philosophy of life.\",\n",
       " \"Here's the A way to think about it beyond what I just said, right?\",\n",
       " 'Actually, about life.',\n",
       " 'Life is all about moving forward.',\n",
       " \"Okay, so let's maybe start with the kind of most philosophical and abstract version of this.\",\n",
       " 'And it has to do with all the possible trajectories, right, that we can take through life, as we were talking about before.',\n",
       " \"It's only life.\",\n",
       " 'This is our understanding of the world in which we live.',\n",
       " 'This life is fun.',\n",
       " \"The ultimate purpose of life, that I guess that's my ultimate purpose of life.\",\n",
       " 'So I think the meaning of life is like that, intrinsically desirable.',\n",
       " 'This individual life of ours, your life, that unfortunately has to come to an end as far as we know for now.',\n",
       " 'So, and whatever I doing, just implementation of my understanding of life.',\n",
       " 'And I think, you know, the fact of mortality gives meaning to life, you know?',\n",
       " 'Oh, so I made this point about thinking life is the physics of existence.',\n",
       " 'Some fundamental truth of it.',\n",
       " \"I don't think there's a better way to end a discussion of the meaning of life.\",\n",
       " \"And at the same time, the immediacy of death and then of course, the continuation of life in whatever form it's gonna take.\",\n",
       " 'I love life.',\n",
       " 'I love life.',\n",
       " \"And that's the role of philosophy, thinking about life.\",\n",
       " \"Let me be a little pedantic because there's no such thing as real meaning, right?\",\n",
       " 'I think meaning of life gets at the same kind of relationship between you and the glass of water, between whatever the forces of the universe that created the planets, the proteins, the multi cell organisms, the intelligent early humans, the beautiful human civilizations and the technologies that will overtake them.',\n",
       " \"Well, let's talk a little bit about life and death.\",\n",
       " \"Life is, I don't know, this one's from you actually, simple machines constructing more complex machines.\",\n",
       " 'So this is yet another way to find meaning.',\n",
       " 'Life is the cell.',\n",
       " 'Or human life existence.',\n",
       " \"That's the meaning of life.\",\n",
       " 'Same thing with life.',\n",
       " 'So your life has meaning if you have affected either knowledge or people or something beyond yourself.',\n",
       " 'And you did ask about the meaning of life and he answered, love.',\n",
       " 'Is that the first thing that you would say is life?',\n",
       " 'The preciousness of life, as the Buddhists say.',\n",
       " 'Life is a motherfucker, as you said.',\n",
       " 'Life is meant to be lived.',\n",
       " \"But nonetheless, the creations that we make and whether it's the love or the joy or the engagement or the perspective shift that that cascades into other minds, I think that's a big, big, big part of the meaning of life.\",\n",
       " 'But I do feel like in a way that the meaning of life is that pursuit, of course biologically is to spread our species, but also to pursue knowledge and science and innovation and freedom most importantly.',\n",
       " \"And that's that I believe that the meaning of my life is to try to make the world a little bit better before I go.\",\n",
       " 'Life is all about creating new things.',\n",
       " 'That your own meaning of life and the reward function.',\n",
       " \"And I think that's the meaning of life.\",\n",
       " \"The meaning of life is where you find it as a conscious creature, but it's consciousness that somehow makes value possible.\",\n",
       " \"So there's human life, and there's life.\",\n",
       " 'I think life is simply for each and every one of us to add on to.',\n",
       " \"Well, I mean, I don't believe in God, so God doesn't play a role in my view of the meaning of life.\",\n",
       " 'I think life has meaning for us because we are conscious.',\n",
       " \"Okay, so let's talk about life.\",\n",
       " \"So it's almost the definition of life.\",\n",
       " 'Life is amazing.',\n",
       " 'Life is amazing.',\n",
       " 'Now this is our meaning of life.',\n",
       " \"If you find that in social connections or in raising a family, then that's the meaning of life for you.\",\n",
       " \"So you've said that the meaning of life is to win.\",\n",
       " 'And it turns out that, and I put together this little passage that was explaining to all those guests to my 42nd birthday party why we were talking about the meaning of life.',\n",
       " 'Our existence here on earth, the whole thing.',\n",
       " 'Sometimes the meaning of life is to clear the path for my daughter or for my students.',\n",
       " 'You drew a line between meaning in life and meaning of life.',\n",
       " 'Human life.',\n",
       " 'Just life.',\n",
       " 'Just life.',\n",
       " 'Life as we know it.',\n",
       " \"That's a very popular definition for life.\",\n",
       " \"There's a rubric for life.\",\n",
       " \"But I'd say in this moment of time, the meaning of life is that we can build a future state of existence that is more fantastic than anything we could ever imagine.\",\n",
       " \"It's the meaning of life in society.\",\n",
       " \"It's what we do between the time we're born and the time we die that gives our life meaning.\",\n",
       " 'Oh yeah, life.',\n",
       " 'For me personally, I think the meaning of life is to eat, is to sleep, is to fall in love, is to cry, and then to die.',\n",
       " 'I think that if you look at the meaning of life, you look at what the cell is.',\n",
       " 'And let me give you my definition of life.',\n",
       " 'I think a meaning of our lives is that.',\n",
       " \"I've come to the conclusion and realization that it's you yourself that defines the meaning of life.\",\n",
       " 'Life is a real balance between growth and death.',\n",
       " \"So you're getting to the very definition of life.\",\n",
       " 'Yeah, life.',\n",
       " 'And the meaning of life is, for me at least, to live in a way that honors the dead, seeks to learn from their accumulated wisdom because they do still outnumber us.',\n",
       " 'Actually, there are three meanings of life.',\n",
       " \"Yeah, so that's, this is the definition of life.\",\n",
       " 'Life.',\n",
       " 'Love is the meaning of life.',\n",
       " 'Of life.',\n",
       " 'Of life.',\n",
       " 'Of life.',\n",
       " 'Of life.',\n",
       " \"We're talking about life.\",\n",
       " 'Life is about accomplishing something meaningful.',\n",
       " 'It is the meaning of life.',\n",
       " 'So life for me has a lot of meaning.',\n",
       " 'And so the meaning of life is to make sure that for as long as there are human beings, they are able to live the kind of fulfilled lives, ethically fulfilled, intellectually fulfilled, emotionally fulfilled lives that civilization has made possible.',\n",
       " 'I think the meaning of life is to live.',\n",
       " 'But the meaning of life is there is no meaning.',\n",
       " 'Well, meaning of life.',\n",
       " 'The meaning of life is to make meaning.',\n",
       " 'I think the meaning of life is the meaning we give to it.',\n",
       " 'The meaning of life is whatever you construct out of it.']"
      ]
     },
     "execution_count": 50,
     "metadata": {},
     "output_type": "execute_result"
    }
   ],
   "source": [
    "mola"
   ]
  },
  {
   "cell_type": "code",
   "execution_count": 51,
   "id": "f771c9fe-1e69-4222-a0bf-7be367741418",
   "metadata": {},
   "outputs": [],
   "source": [
    "from transformers import AutoTokenizer, AutoModelForSeq2SeqLM\n",
    "\n",
    "tokenizer = AutoTokenizer.from_pretrained(\"facebook/bart-large-cnn\")\n",
    "\n",
    "model = AutoModelForSeq2SeqLM.from_pretrained(\"facebook/bart-large-cnn\")"
   ]
  },
  {
   "cell_type": "code",
   "execution_count": 53,
   "id": "dabc8e7f-a2d1-4327-ab5a-b3dddc36f0cb",
   "metadata": {},
   "outputs": [],
   "source": [
    "from transformers import pipeline\n",
    "\n",
    "summarizer = pipeline(\"summarization\", model=\"facebook/bart-large-cnn\")"
   ]
  },
  {
   "cell_type": "code",
   "execution_count": 54,
   "id": "69ced811-1769-487c-a351-073d74db3e80",
   "metadata": {},
   "outputs": [
    {
     "name": "stderr",
     "output_type": "stream",
     "text": [
      "Your max_length is set to 1000, but you input_length is only 10. You might consider decreasing max_length manually, e.g. summarizer('...', max_length=5)\n",
      "Your max_length is set to 1000, but you input_length is only 14. You might consider decreasing max_length manually, e.g. summarizer('...', max_length=7)\n",
      "Your max_length is set to 1000, but you input_length is only 19. You might consider decreasing max_length manually, e.g. summarizer('...', max_length=9)\n",
      "Your max_length is set to 1000, but you input_length is only 7. You might consider decreasing max_length manually, e.g. summarizer('...', max_length=3)\n",
      "Your max_length is set to 1000, but you input_length is only 9. You might consider decreasing max_length manually, e.g. summarizer('...', max_length=4)\n",
      "Your max_length is set to 1000, but you input_length is only 21. You might consider decreasing max_length manually, e.g. summarizer('...', max_length=10)\n",
      "Your max_length is set to 1000, but you input_length is only 30. You might consider decreasing max_length manually, e.g. summarizer('...', max_length=15)\n",
      "Your max_length is set to 1000, but you input_length is only 7. You might consider decreasing max_length manually, e.g. summarizer('...', max_length=3)\n",
      "Your max_length is set to 1000, but you input_length is only 14. You might consider decreasing max_length manually, e.g. summarizer('...', max_length=7)\n",
      "Your max_length is set to 1000, but you input_length is only 7. You might consider decreasing max_length manually, e.g. summarizer('...', max_length=3)\n",
      "Your max_length is set to 1000, but you input_length is only 19. You might consider decreasing max_length manually, e.g. summarizer('...', max_length=9)\n",
      "Your max_length is set to 1000, but you input_length is only 16. You might consider decreasing max_length manually, e.g. summarizer('...', max_length=8)\n",
      "Your max_length is set to 1000, but you input_length is only 27. You might consider decreasing max_length manually, e.g. summarizer('...', max_length=13)\n",
      "Your max_length is set to 1000, but you input_length is only 17. You might consider decreasing max_length manually, e.g. summarizer('...', max_length=8)\n",
      "Your max_length is set to 1000, but you input_length is only 21. You might consider decreasing max_length manually, e.g. summarizer('...', max_length=10)\n",
      "Your max_length is set to 1000, but you input_length is only 18. You might consider decreasing max_length manually, e.g. summarizer('...', max_length=9)\n",
      "Your max_length is set to 1000, but you input_length is only 8. You might consider decreasing max_length manually, e.g. summarizer('...', max_length=4)\n",
      "Your max_length is set to 1000, but you input_length is only 21. You might consider decreasing max_length manually, e.g. summarizer('...', max_length=10)\n",
      "Your max_length is set to 1000, but you input_length is only 30. You might consider decreasing max_length manually, e.g. summarizer('...', max_length=15)\n",
      "Your max_length is set to 1000, but you input_length is only 6. You might consider decreasing max_length manually, e.g. summarizer('...', max_length=3)\n",
      "Your max_length is set to 1000, but you input_length is only 6. You might consider decreasing max_length manually, e.g. summarizer('...', max_length=3)\n",
      "Your max_length is set to 1000, but you input_length is only 14. You might consider decreasing max_length manually, e.g. summarizer('...', max_length=7)\n",
      "Your max_length is set to 1000, but you input_length is only 21. You might consider decreasing max_length manually, e.g. summarizer('...', max_length=10)\n",
      "Your max_length is set to 1000, but you input_length is only 59. You might consider decreasing max_length manually, e.g. summarizer('...', max_length=29)\n",
      "Your max_length is set to 1000, but you input_length is only 15. You might consider decreasing max_length manually, e.g. summarizer('...', max_length=7)\n",
      "Your max_length is set to 1000, but you input_length is only 24. You might consider decreasing max_length manually, e.g. summarizer('...', max_length=12)\n",
      "Your max_length is set to 1000, but you input_length is only 12. You might consider decreasing max_length manually, e.g. summarizer('...', max_length=6)\n",
      "Your max_length is set to 1000, but you input_length is only 7. You might consider decreasing max_length manually, e.g. summarizer('...', max_length=3)\n",
      "Your max_length is set to 1000, but you input_length is only 7. You might consider decreasing max_length manually, e.g. summarizer('...', max_length=3)\n",
      "Your max_length is set to 1000, but you input_length is only 9. You might consider decreasing max_length manually, e.g. summarizer('...', max_length=4)\n",
      "Your max_length is set to 1000, but you input_length is only 7. You might consider decreasing max_length manually, e.g. summarizer('...', max_length=3)\n",
      "Your max_length is set to 1000, but you input_length is only 20. You might consider decreasing max_length manually, e.g. summarizer('...', max_length=10)\n",
      "Your max_length is set to 1000, but you input_length is only 17. You might consider decreasing max_length manually, e.g. summarizer('...', max_length=8)\n",
      "Your max_length is set to 1000, but you input_length is only 14. You might consider decreasing max_length manually, e.g. summarizer('...', max_length=7)\n",
      "Your max_length is set to 1000, but you input_length is only 14. You might consider decreasing max_length manually, e.g. summarizer('...', max_length=7)\n",
      "Your max_length is set to 1000, but you input_length is only 13. You might consider decreasing max_length manually, e.g. summarizer('...', max_length=6)\n",
      "Your max_length is set to 1000, but you input_length is only 9. You might consider decreasing max_length manually, e.g. summarizer('...', max_length=4)\n",
      "Your max_length is set to 1000, but you input_length is only 51. You might consider decreasing max_length manually, e.g. summarizer('...', max_length=25)\n",
      "Your max_length is set to 1000, but you input_length is only 42. You might consider decreasing max_length manually, e.g. summarizer('...', max_length=21)\n",
      "Your max_length is set to 1000, but you input_length is only 29. You might consider decreasing max_length manually, e.g. summarizer('...', max_length=14)\n",
      "Your max_length is set to 1000, but you input_length is only 10. You might consider decreasing max_length manually, e.g. summarizer('...', max_length=5)\n",
      "Your max_length is set to 1000, but you input_length is only 13. You might consider decreasing max_length manually, e.g. summarizer('...', max_length=6)\n",
      "Your max_length is set to 1000, but you input_length is only 12. You might consider decreasing max_length manually, e.g. summarizer('...', max_length=6)\n",
      "Your max_length is set to 1000, but you input_length is only 26. You might consider decreasing max_length manually, e.g. summarizer('...', max_length=13)\n",
      "Your max_length is set to 1000, but you input_length is only 13. You might consider decreasing max_length manually, e.g. summarizer('...', max_length=6)\n",
      "Your max_length is set to 1000, but you input_length is only 19. You might consider decreasing max_length manually, e.g. summarizer('...', max_length=9)\n",
      "Your max_length is set to 1000, but you input_length is only 30. You might consider decreasing max_length manually, e.g. summarizer('...', max_length=15)\n",
      "Your max_length is set to 1000, but you input_length is only 14. You might consider decreasing max_length manually, e.g. summarizer('...', max_length=7)\n",
      "Your max_length is set to 1000, but you input_length is only 11. You might consider decreasing max_length manually, e.g. summarizer('...', max_length=5)\n",
      "Your max_length is set to 1000, but you input_length is only 11. You might consider decreasing max_length manually, e.g. summarizer('...', max_length=5)\n",
      "Your max_length is set to 1000, but you input_length is only 6. You might consider decreasing max_length manually, e.g. summarizer('...', max_length=3)\n",
      "Your max_length is set to 1000, but you input_length is only 6. You might consider decreasing max_length manually, e.g. summarizer('...', max_length=3)\n",
      "Your max_length is set to 1000, but you input_length is only 10. You might consider decreasing max_length manually, e.g. summarizer('...', max_length=5)\n",
      "Your max_length is set to 1000, but you input_length is only 25. You might consider decreasing max_length manually, e.g. summarizer('...', max_length=12)\n",
      "Your max_length is set to 1000, but you input_length is only 15. You might consider decreasing max_length manually, e.g. summarizer('...', max_length=7)\n",
      "Your max_length is set to 1000, but you input_length is only 38. You might consider decreasing max_length manually, e.g. summarizer('...', max_length=19)\n",
      "Your max_length is set to 1000, but you input_length is only 12. You might consider decreasing max_length manually, e.g. summarizer('...', max_length=6)\n",
      "Your max_length is set to 1000, but you input_length is only 20. You might consider decreasing max_length manually, e.g. summarizer('...', max_length=10)\n",
      "Your max_length is set to 1000, but you input_length is only 15. You might consider decreasing max_length manually, e.g. summarizer('...', max_length=7)\n",
      "Your max_length is set to 1000, but you input_length is only 5. You might consider decreasing max_length manually, e.g. summarizer('...', max_length=2)\n",
      "Your max_length is set to 1000, but you input_length is only 5. You might consider decreasing max_length manually, e.g. summarizer('...', max_length=2)\n",
      "Your max_length is set to 1000, but you input_length is only 5. You might consider decreasing max_length manually, e.g. summarizer('...', max_length=2)\n",
      "Your max_length is set to 1000, but you input_length is only 8. You might consider decreasing max_length manually, e.g. summarizer('...', max_length=4)\n",
      "Your max_length is set to 1000, but you input_length is only 11. You might consider decreasing max_length manually, e.g. summarizer('...', max_length=5)\n",
      "Your max_length is set to 1000, but you input_length is only 10. You might consider decreasing max_length manually, e.g. summarizer('...', max_length=5)\n",
      "Your max_length is set to 1000, but you input_length is only 37. You might consider decreasing max_length manually, e.g. summarizer('...', max_length=18)\n",
      "Your max_length is set to 1000, but you input_length is only 11. You might consider decreasing max_length manually, e.g. summarizer('...', max_length=5)\n",
      "Your max_length is set to 1000, but you input_length is only 24. You might consider decreasing max_length manually, e.g. summarizer('...', max_length=12)\n",
      "Your max_length is set to 1000, but you input_length is only 7. You might consider decreasing max_length manually, e.g. summarizer('...', max_length=3)\n",
      "Your max_length is set to 1000, but you input_length is only 35. You might consider decreasing max_length manually, e.g. summarizer('...', max_length=17)\n",
      "Your max_length is set to 1000, but you input_length is only 22. You might consider decreasing max_length manually, e.g. summarizer('...', max_length=11)\n",
      "Your max_length is set to 1000, but you input_length is only 12. You might consider decreasing max_length manually, e.g. summarizer('...', max_length=6)\n",
      "Your max_length is set to 1000, but you input_length is only 12. You might consider decreasing max_length manually, e.g. summarizer('...', max_length=6)\n",
      "Your max_length is set to 1000, but you input_length is only 22. You might consider decreasing max_length manually, e.g. summarizer('...', max_length=11)\n",
      "Your max_length is set to 1000, but you input_length is only 12. You might consider decreasing max_length manually, e.g. summarizer('...', max_length=6)\n",
      "Your max_length is set to 1000, but you input_length is only 13. You might consider decreasing max_length manually, e.g. summarizer('...', max_length=6)\n",
      "Your max_length is set to 1000, but you input_length is only 6. You might consider decreasing max_length manually, e.g. summarizer('...', max_length=3)\n",
      "Your max_length is set to 1000, but you input_length is only 39. You might consider decreasing max_length manually, e.g. summarizer('...', max_length=19)\n",
      "Your max_length is set to 1000, but you input_length is only 11. You might consider decreasing max_length manually, e.g. summarizer('...', max_length=5)\n",
      "Your max_length is set to 1000, but you input_length is only 15. You might consider decreasing max_length manually, e.g. summarizer('...', max_length=7)\n",
      "Your max_length is set to 1000, but you input_length is only 4. You might consider decreasing max_length manually, e.g. summarizer('...', max_length=2)\n",
      "Your max_length is set to 1000, but you input_length is only 9. You might consider decreasing max_length manually, e.g. summarizer('...', max_length=4)\n",
      "Your max_length is set to 1000, but you input_length is only 5. You might consider decreasing max_length manually, e.g. summarizer('...', max_length=2)\n",
      "Your max_length is set to 1000, but you input_length is only 5. You might consider decreasing max_length manually, e.g. summarizer('...', max_length=2)\n",
      "Your max_length is set to 1000, but you input_length is only 5. You might consider decreasing max_length manually, e.g. summarizer('...', max_length=2)\n",
      "Your max_length is set to 1000, but you input_length is only 5. You might consider decreasing max_length manually, e.g. summarizer('...', max_length=2)\n",
      "Your max_length is set to 1000, but you input_length is only 8. You might consider decreasing max_length manually, e.g. summarizer('...', max_length=4)\n",
      "Your max_length is set to 1000, but you input_length is only 10. You might consider decreasing max_length manually, e.g. summarizer('...', max_length=5)\n",
      "Your max_length is set to 1000, but you input_length is only 9. You might consider decreasing max_length manually, e.g. summarizer('...', max_length=4)\n",
      "Your max_length is set to 1000, but you input_length is only 12. You might consider decreasing max_length manually, e.g. summarizer('...', max_length=6)\n",
      "Your max_length is set to 1000, but you input_length is only 49. You might consider decreasing max_length manually, e.g. summarizer('...', max_length=24)\n",
      "Your max_length is set to 1000, but you input_length is only 12. You might consider decreasing max_length manually, e.g. summarizer('...', max_length=6)\n",
      "Your max_length is set to 1000, but you input_length is only 13. You might consider decreasing max_length manually, e.g. summarizer('...', max_length=6)\n",
      "Your max_length is set to 1000, but you input_length is only 8. You might consider decreasing max_length manually, e.g. summarizer('...', max_length=4)\n",
      "Your max_length is set to 1000, but you input_length is only 11. You might consider decreasing max_length manually, e.g. summarizer('...', max_length=5)\n",
      "Your max_length is set to 1000, but you input_length is only 16. You might consider decreasing max_length manually, e.g. summarizer('...', max_length=8)\n",
      "Your max_length is set to 1000, but you input_length is only 14. You might consider decreasing max_length manually, e.g. summarizer('...', max_length=7)\n"
     ]
    },
    {
     "name": "stdout",
     "output_type": "stream",
     "text": [
      "[{'summary_text': '\"I have three short answers to it,\" he says. \"I have no idea what you\\'re talking about. I don\\'t know why you\\'re asking that question. I have no answer for it\" He adds: \"I don\\'t have any answers for it. I just have no answers\"'}, {'summary_text': 'CNN.com will feature iReporter photos in a weekly Travel Snapshots gallery. Please submit your best shots of the U.S. for next week. Visit CNN.com/Travel each week for a new gallery of snapshots. Visit www.dailymail.co.uk/travel for the next page.'}, {'summary_text': \"CNN.com will feature iReporter photos in a weekly Travel Snapshots gallery. Visit CNN.com/Travel each week for a new gallery of snapshots. This week, we'll feature snapshots from the U.S. Air Force.\"}, {'summary_text': \"Life is funny. Actually, about life. It's also really sad. It really is. But it's all worth it in the end. I mean, it's the end of the world, but it's also the beginning of a new life.\"}, {'summary_text': 'CNN.com will feature iReporter photos in a weekly Travel Snapshots gallery. Please submit your best shots of the U.S. for next week. Visit CNN.com/Travel each week for a new gallery of snapshots. Visit www.dailymail.co.uk/travel for the latest.'}, {'summary_text': 'CNN.com\\'s John Sutter takes a look at some of the most philosophical and abstract ideas behind the creation of the Internet. Sutter: \"I think it\\'s a very interesting time to be alive in the world of the internet. It\\'s a really exciting time to live in this world\"'}, {'summary_text': '\"It has to do with all the possible trajectories, right, that we can take through life, as we were talking about before,\" he says. \"And it has toDo with all of the possible paths we can go on in our lives,\" he adds.'}, {'summary_text': '\"It\\'s only life. It\\'s only death,\" he says. \"It\\'s just life. That\\'s all it is. It is only life,\" he adds. \"That\\'s all we have. That is all we can have.\"'}, {'summary_text': 'This is our understanding of the world in which we live. This is the world that we live in. We live in a world that is very different from our own. We need to understand this world in order to live in it. We can only understand it if we understand it.'}, {'summary_text': \"This life is fun. This life has been fun. It's time to move on to the next phase of my life. I'm looking forward to seeing what the future has in store for me. Let's hope it's a lot of fun.\"}, {'summary_text': '\"The ultimate purpose of life, that I guess that\\'s my ultimatepurpose of life,\" he says. \"That\\'s what I want to do. That\\'s my purpose in life. The ultimate purpose.\" \"I want to make a difference in the lives of people,\" he adds.'}, {'summary_text': '\"I think the meaning of life is like that, intrinsically desirable. So I think that\\'s what I\\'m trying to do,\" he says. \"I want to make the world a better place for people to live in,\" he adds.'}, {'summary_text': '\"This individual life of ours, your life, that unfortunately has to come to an end as far as we know for now,\" he said. \"It\\'s a very sad day for us all,\" he added. \"This is the end of an individual life. It\\'s a sad time for us\"'}, {'summary_text': '\"It\\'s just implementation of my understanding of life. So, and whatever I doing, just Implementation of My Understanding of Life,\" he says. \"That\\'s what I\\'m doing. That\\'s my job. I\\'m just doing my job\"'}, {'summary_text': '\"I think, you know, the fact of mortality gives meaning to life,\" he says. \"And I think, I know, that\\'s what I\\'m trying to do,\" he adds. \"I think that\\'s the way I\\'m going to try to live my life,\" Obama says.'}, {'summary_text': '\"I made this point about thinking life is the physics of existence. Oh, so I made that point,\" he says. \"I think that\\'s a good way to look at it.\" He adds: \"I don\\'t think it\\'s a bad thing to think that way.\"'}, {'summary_text': 'Some fundamental truth of it. Some fundamental truth is that there is no such thing as a free lunch. There is only one way to get to the truth of the matter. And it is not to be found in a buffet of fast food restaurants.'}, {'summary_text': '\"I don\\'t think there\\'s a better way to end a discussion of the meaning of life,\" he says. \"It\\'s just a great way to go out,\" he adds. \"There\\'s no better way\" to end, he says, \"than to talk about life\"'}, {'summary_text': '\"The continuation of life in whatever form it\\'s gonna take,\" he says. \"At the same time, the immediacy of death and then of course, the continuation of death\" \"It\\'s a beautiful thing to be alive,\" he adds. \"But it\\'s also a terrible thing to die\"'}, {'summary_text': '\"I love life. I love life,\" she says. \"I love my family. My friends, I love my friends. I just love life\" \"I\\'m a survivor,\" she adds. \"That\\'s what I like about it. I\\'m not afraid to be a survivor\"'}, {'summary_text': '\"I love life. I love life,\" she says. \"I love my family. My friends, I love my friends. I just love life\" \"I\\'m a survivor,\" she adds. \"That\\'s what I like about it. I\\'m not afraid to be a survivor\"'}, {'summary_text': '\"That\\'s the role of philosophy, thinking about life. And that\\'s what we\\'re trying to do here,\" he says. \"We\\'re not just trying to make money. We\\'re making a difference in the lives of people,\" he adds.'}, {'summary_text': 'CNN.com will feature iReporter photos in a weekly Travel Snapshots gallery. Visit CNN.com/Travel each week for a new gallery of snapshots from around the world. Visit the gallery each week to see a different gallery of photos.'}, {'summary_text': '\"I think meaning of life gets at the same kind of relationship between you and the glass of water, between whatever the forces of the universe that created the planets, the proteins, the multi cell organisms, the intelligent early humans, the beautiful human civilizations\"'}, {'summary_text': 'CNN.com will feature iReporter photos in a weekly Travel Snapshots gallery. Visit CNN.com/Travel each week for a new gallery of snapshots from around the world. Visit www.dailymail.co.uk/travel for a latest gallery of photos.'}, {'summary_text': '\"Life is, I don\\'t know, this one\\'s from you actually, simple machines constructing more complex machines,\" he says. \"Life is simple. Life is simple, it\\'s not complicated,\" he adds. \"It\\'s just simple. It\\'s not complex.\"'}, {'summary_text': '\"It\\'s yet another way to find meaning,\" he says. \"It\\'s a way to say \\'thank you\\' for what you\\'ve done for me. So this is yet another thing I can do for you\" \"I\\'m just trying to do my best,\" he adds. \"I don\\'t know what else to do.\"'}, {'summary_text': \"Life is a cell. Life is the cell. The cell is the person. The human body is the human body. It is a living, breathing organism. It's called life. It can't die. It must live. It cannot die.\"}, {'summary_text': 'Or human life. Or human life existence. Or both. Or neither. or both. or all of them. Or any of them for that matter. Or even just human existence. or human life itself. or any other form of existence.'}, {'summary_text': 'CNN.com will feature iReporter photos in a weekly Travel Snapshots gallery. Please submit your best shots of the U.S. for next week. Visit CNN.com/Travel each week for a new gallery of snapshots. Visit www.dailymail.co.uk/travel for the latest.'}, {'summary_text': \"Same thing with life. Same thing with death. Same things with death and life. It's all part of the process. You just have to go with the flow. That's what life is all about, isn't it? It's a process.\"}, {'summary_text': \"Your life has meaning if you have affected either knowledge or people or something beyond yourself. So your life has Meaning if you've affected knowledge, people, or something outside yourself. For more information, visit CNN.com/Heroes and CNN iReport.\"}, {'summary_text': 'CNN.com will feature iReporter photos in a weekly Travel Snapshots gallery. Please submit your best shots of the U.S. for next week. Visit CNN.com/Travel next Friday for a new gallery of snapshots. For more, go to CNN.co/Travel.'}, {'summary_text': 'CNN.com will feature iReporter photos in a weekly Travel Snapshots gallery. Visit CNN.com/Travel each week for a new gallery of snapshots. This week, we feature snapshots from across the U.S. and around the world. Please submit your best shots of New York City for next week.'}, {'summary_text': 'The preciousness of life, as the Buddhists say, is the reason why we are here. We are not here to die, but to live in a way that is precious to us, as well as to others. We must live in this way.'}, {'summary_text': '\"Life is a motherfucker, as you said. Life is aMotherfucker,\" he said. \"I\\'m not going to lie to you. I\\'m not a liar. I\\'ve never been a liar.\" \"I\\'ve never lied to you,\" he added. \"You\\'re a liar, too. You\\'re a fool.\"'}, {'summary_text': \"Life is meant to be lived. That's what I'm trying to teach my daughter. Life is about living it, not just surviving it. I hope she'll learn to live it, too. It's time to live life to the full.\"}, {'summary_text': '\"The creations that we make and whether it\\'s the love or the joy or the engagement or the perspective shift that that cascades into other minds, I think that\\'s a big, big,big part of the meaning of life,\" he says.'}, {'summary_text': '\"I do feel like in a way that the meaning of life is that pursuit,\" he says. \" biologically is to spread our species, but also to pursue knowledge and science and innovation and freedom most importantly. That\\'s what I want to do\"'}, {'summary_text': '\"I believe that the meaning of my life is to try to make the world a little bit better before I go. And that\\'s that,\" he says. \"That\\'s what I\\'m trying to do. I\\'m just trying to be a better person.\"'}, {'summary_text': '\"Life is all about creating new things. Life is about creating something new,\" says the author. \"I\\'m always looking for new things to do.\" \"I like to create new things,\" he adds. \"That\\'s what I do. That\\'s my passion.\"'}, {'summary_text': 'CNN.com will feature iReporter photos in a weekly Travel Snapshots gallery. Please submit your best shots of the U.S. for next week. Visit CNN.com/Travel next Friday for a new gallery of snapshots from around the world.'}, {'summary_text': '\"That\\'s the meaning of life. And I think that\\'s the mean of life,\" he says. \"That\\'s what I want to do with my life. That\\'s my goal. To live my life to the full.\" \"I want to be able to do that,\" he adds. \"And I think I can.\"'}, {'summary_text': '\"The meaning of life is where you find it as a conscious creature, but it\\'s consciousness that somehow makes value possible,\" he says. \"It\\'s not about what you do, it\\'s how you do it,\" he adds. \"You have to be conscious of what you\\'re doing\"'}, {'summary_text': '\"There\\'s human life, and there\\'s life. So there\\'s humanLife,\" he says. \"There\\'s life in this world. There\\'s no end to life\" He adds: \"It\\'s a beautiful world. It\\'s a good world\"'}, {'summary_text': '\"I think life is simply for each and every one of us to add on to. I think that\\'s what I\\'m trying to say,\" he says. \"I think that life is for us all to add to,\" he adds.'}, {'summary_text': '\"I don\\'t believe in God, so God doesn\\'t play a role in my view of the meaning of life. Well, I mean, I don\\'t Believe in God,\" he says. \"God doesn\\'tplay a role\" in his view of life, he adds.'}, {'summary_text': '\"I think life has meaning for us because we are conscious. We are conscious,\" she says. \"We have to be conscious of what we are doing. We have to live our lives in a way that is conscious and conscious of our surroundings\"'}, {'summary_text': \"CNN.com will feature iReporter photos in a weekly Travel Snapshots gallery. Please submit your best shots of the U.S. for next week. Visit CNN.com/Travel next Wednesday for a new gallery of snapshots. We'll feature the best of the best from across the globe.\"}, {'summary_text': 'CNN.com will feature iReporter photos in a weekly Travel Snapshots gallery. Please submit your best shots of the U.S. for next week. Visit CNN.com/Travel next Wednesday for a new gallery of snapshots. For more, go to CNN.org/Travel.'}, {'summary_text': \"CNN.com will feature iReporter photos in a weekly Travel Snapshots gallery. Please submit your best shots of the U.S. for next week. Visit CNN.com/Travel next Wednesday for a new gallery of snapshots. We'll feature the best of the best from across the globe.\"}, {'summary_text': \"CNN.com will feature iReporter photos in a weekly Travel Snapshots gallery. Please submit your best shots of the U.S. for next week. Visit CNN.com/Travel next Wednesday for a new gallery of snapshots. We'll feature the best of the best from across the globe.\"}, {'summary_text': \"CNN.com will feature iReporter photos in a weekly Travel Snapshots gallery. Please submit your best shots of the U.S. for next week. Visit CNN.com/Travel next Wednesday for a new gallery of snapshots. We'll feature the best of the best from across the globe.\"}, {'summary_text': '\"If you find that in social connections or in raising a family, then that\\'s the meaning of life for you,\" he says. \"That\\'s what life is all about. If you find it in that way, that\\'s what it\\'s about\"'}, {'summary_text': 'CNN.com will feature iReporter photos in a weekly Travel Snapshots gallery. Visit CNN.com/Travel each week for a new gallery of snapshots from around the world. We will feature a new photo each week until the end of the year.'}, {'summary_text': '\"I put together this little passage that was explaining to all those guests to my 42nd birthday party why we were talking about the meaning of life,\" he says. \"And it turns out that, and I put together a little passage,\" he adds.'}, {'summary_text': 'CNN.com will feature iReporter photos in a weekly Travel Snapshots gallery. Please submit your best shots of the U.S. for next week. Visit CNN.com/Travel each week for a new gallery of snapshots.'}, {'summary_text': '\"Sometimes the meaning of life is to clear the path for my daughter or for my students,\" she says. \"I want to make sure that they have a good path to follow\" She adds: \"I don\\'t want them to think they have to go through this alone\"'}, {'summary_text': '\"You drew a line between meaning in life and meaning of life. You drew the line between life and death,\" he said. \"You drew that line in the sand and in the water,\" he added. \"And you drew it in the sky\"'}, {'summary_text': 'Human life is precious and should not be taken for granted. Human life should be respected and respected in every way possible. This is why we are called to protect human life. We should never forget that human life is sacred and should never be lost.'}, {'summary_text': \"Just life. Just life. Nothing more. Nothing less. Nothing at all. It's just life. And that's fine. It is what it is. No one can change it. No matter what happens. It just is. JustLife.\"}, {'summary_text': \"Just life. Just life. Nothing more. Nothing less. Nothing at all. It's just life. And that's fine. It is what it is. No one can change it. No matter what happens. It just is. JustLife.\"}, {'summary_text': \"Life as we know it. Life as we have known it is over. It's time to move on to the next phase of our lives. The next step is to find out what the future holds for us. We'll find out in the next few days.\"}, {'summary_text': \"CNN.com will feature iReporter photos in a weekly Travel Snapshots gallery. Please submit your best shots of the U.S. for next week. Visit CNN.com/Travel next Wednesday for a new gallery of snapshots. We'll feature the best of the best from around the world.\"}, {'summary_text': \"There's a rubric for life. There's also a Rubric for death. There is also aRubric for Life. It's not about death, it's about life. That's the rubric. It doesn't get any easier.\"}, {'summary_text': '\"The meaning of life is that we can build a future state of existence that is more fantastic than anything we could ever imagine,\" he says. \"I\\'d say in this moment of time, the meaning ofLife is that We can build ... a future that is fantastic\"'}, {'summary_text': 'CNN.com will feature iReporter photos in a weekly Travel Snapshots gallery. Please submit your best shots of the U.S. for next week. Visit CNN.com/Travel each week for a new gallery of snapshots. Visit www.dailymail.co.uk/travel for the latest.'}, {'summary_text': '\"It\\'s what we do between the time we\\'re born and the. time we die that gives our life meaning. It\\'s the things we do that make our life worth living,\" he says. \"It\\'s the little things in life that make a difference,\" he adds.'}, {'summary_text': \"CNN.com will feature iReporter photos in a weekly Travel Snapshots gallery. Please submit your best shots of the U.S. for next week. Visit CNN.com/Travel each week for a new gallery of snapshots. Visit http://www.dailymail.co.uk/travel/features/trending-trends-in-the-moment-and-tourist-photos-taken-by-jennifer-smith-took-pictures-of-her-trip-to-Australia-for-this-week's-fifth-anniversary.\"}, {'summary_text': '\"For me personally, I think the meaning of life is to eat, is to sleep,\" he says. \"It is to fall in love, isto cry, and then to die,\" he adds. \"I think that\\'s what life is all about\"'}, {'summary_text': '\"I think that if you look at the meaning of life, youLook at what the cell is\" \"The cell is the most important thing in the world\" \"It\\'s the only thing that can make a difference in the life of a human being\"'}, {'summary_text': '\"Let me give you my definition of life,\" he says. \"I am a man. I am a father. I\\'m a husband. I have a son. And I am proud of him. I love him. He is my best friend.\"'}, {'summary_text': '\"I think a meaning of our lives is that. I think that\\'s what we try to live for,\" he says. \"I think that that\\'s the meaning of my life. That\\'s what I want for my life.\" He adds: \"I don\\'t want to die. I want to live my life to the full.\"'}, {'summary_text': '\"I\\'ve come to the conclusion and realization that it\\'s you yourself that defines the meaning of life,\" he says. \"You yourself are the most important person in the world,\" he adds. \"It\\'s up to you to decide what you want to do with your life\"'}, {'summary_text': '\"Life is a real balance between growth and death,\" he says. \"I don\\'t think there\\'s a balance between life and death. There\\'s no such thing as a life or death balance,\" he adds. \"There\\'s a life and a death balance. That\\'s what life is.\"'}, {'summary_text': '\"You\\'re getting to the very definition of life,\" he says. \"It\\'s a very, very exciting time of year for me.\" \"I feel like I\\'m in a dream,\" he adds. \"I don\\'t want to wake up from this dream.\"'}, {'summary_text': \"Life. Yeah, life. It's just life. I mean, it's just my life. But it's a lot of fun, too. I love it. I really do. I'm so happy to be alive. I just love life.\"}, {'summary_text': '\"The meaning of life is, for me at least, to live in a way that honors the dead, seeks to learn from their accumulated wisdom,\" he says. \"They do still outnumber us,\" he adds. \"And I want to be part of that.\"'}, {'summary_text': 'There are three meanings of life. Actually, there are three ways to live your life. There is no single meaning of life, just three different ways to look at it. There are also three ways of looking at the world. These are: positive, negative and negative.'}, {'summary_text': '\"This is the definition of life. Yeah, so that\\'s, this is thedefinition of life,\" he says. \"This is what life is all about. This is what it\\'s all about,\" he adds. \"It\\'s not about the money, it\\'s about the people and the experiences.\"'}, {'summary_text': 'CNN.com will feature iReporter photos in a weekly Travel Snapshots gallery. Please submit your best shots of the U.S. for next week. Visit CNN.com/Travel each week for a new gallery of snapshots. Visit www.dailymail.co.uk/travel for the latest.'}, {'summary_text': '\"Love is the meaning of life. Love is the reason for life,\" says the Dalai Lama. \"It\\'s not about what you do, it\\'s what you say,\" he says. \"Love is not about how much you do it. It\\'s about how you say it and say it.\"'}, {'summary_text': 'A look at some of the most memorable moments in the lives of people who have died. Of life. Of death. Of love. Of loss. Of hope. Of happiness. Of joy. Of peace. Of laughter. of joy. of love.'}, {'summary_text': 'A look at some of the most memorable moments in the lives of people who have died. Of life. Of death. Of love. Of loss. Of hope. Of happiness. Of joy. Of peace. Of laughter. of joy. of love.'}, {'summary_text': 'A look at some of the most memorable moments in the lives of people who have died. Of life. Of death. Of love. Of loss. Of hope. Of happiness. Of joy. Of peace. Of laughter. of joy. of love.'}, {'summary_text': 'A look at some of the most memorable moments in the lives of people who have died. Of life. Of death. Of love. Of loss. Of hope. Of happiness. Of joy. Of peace. Of laughter. of joy. of love.'}, {'summary_text': \"CNN.com will feature iReporter photos in a weekly Travel Snapshots gallery. Visit CNN.com/Travel each week for a new gallery of snapshots from around the world. We'll also feature a weekly Newsquiz to test your knowledge of stories you saw in the news.\"}, {'summary_text': '\"Life is about accomplishing something meaningful,\" he says. \"It\\'s not about winning or losing, it\\'s about achieving something meaningful\" \"I want to make a difference in people\\'s lives,\" he adds. \"That\\'s what I\\'m trying to do.\"'}, {'summary_text': 'CNN.com will feature iReporter photos in a weekly Travel Snapshots gallery. Please submit your best shots of the U.S. for next week. Visit CNN.com/Travel next Friday for a new gallery of snapshots from around the world.'}, {'summary_text': '\"Life for me has a lot of meaning. So life for me is very important,\" he says. \"I want to make a difference in people\\'s lives. I want to help people in a way that they can\\'t help themselves\"'}, {'summary_text': '\"The meaning of life is to make sure that for as long as there are human beings, they are able to live the kind of fulfilled lives,\" he says. \"Ethically fulfilled, intellectually fulfilled, emotionally fulfilled lives that civilization has made possible\"'}, {'summary_text': '\"I think the meaning of life is to live. I think that\\'s what I\\'m trying to do,\" he says. \"I\\'m not trying to get rich. I\\'m just trying to live my life,\" he adds. \"That\\'s what it\\'s all about.\"'}, {'summary_text': '\"The meaning of life is there is no meaning. But the meaning ofLife is there\\'s no meaning,\" he says. \"I\\'m not looking for meaning. I\\'m looking for a way to be happy\" he adds. \"That\\'s what I\\'m trying to do.\"'}, {'summary_text': 'CNN.com will feature iReporter photos in a weekly Travel Snapshots gallery. Please submit your best shots of the U.S. for next week. Visit CNN.com/Travel next Wednesday for a new gallery of snapshots. For more, go to CNN.org/Travel.'}, {'summary_text': '\"The meaning of life is to make meaning. The meaning of the world is to have meaning,\" says the Dalai Lama. \"It\\'s not to be happy, it\\'s to have a purpose,\" he says. \"That\\'s what life is all about.\"'}, {'summary_text': '\"I think the meaning of life is the meaning we give to it,\" he says. \"I think that\\'s what I\\'m trying to do here.\" \"I want to make a difference in people\\'s lives,\" he adds. \"That\\'s what life is all about. It\\'s about giving back\"'}, {'summary_text': '\"The meaning of life is whatever you construct out of it,\" he says. \"It\\'s not what you do, it\\'s what you make of it\" \"You have to have a sense of humor about yourself,\" he adds. \"You can\\'t be afraid to be a little bit sarcastic\"'}]\n"
     ]
    }
   ],
   "source": [
    "print(summarizer(mola, max_length=1000, min_length=50, do_sample=False))"
   ]
  },
  {
   "cell_type": "code",
   "execution_count": 57,
   "id": "0bf5f1cc-9632-4f70-9b48-83fdb6f8a870",
   "metadata": {},
   "outputs": [],
   "source": [
    "s = ' '.join(mola)"
   ]
  },
  {
   "cell_type": "code",
   "execution_count": 58,
   "id": "03a09684-a569-4cd0-b6d1-8e8ad1089d14",
   "metadata": {},
   "outputs": [
    {
     "data": {
      "text/plain": [
       "\"I have three short answers to it. You know, and it's an interesting philosophy of life. Here's the A way to think about it beyond what I just said, right? Actually, about life. Life is all about moving forward. Okay, so let's maybe start with the kind of most philosophical and abstract version of this. And it has to do with all the possible trajectories, right, that we can take through life, as we were talking about before. It's only life. This is our understanding of the world in which we live. This life is fun. The ultimate purpose of life, that I guess that's my ultimate purpose of life. So I think the meaning of life is like that, intrinsically desirable. This individual life of ours, your life, that unfortunately has to come to an end as far as we know for now. So, and whatever I doing, just implementation of my understanding of life. And I think, you know, the fact of mortality gives meaning to life, you know? Oh, so I made this point about thinking life is the physics of existence. Some fundamental truth of it. I don't think there's a better way to end a discussion of the meaning of life. And at the same time, the immediacy of death and then of course, the continuation of life in whatever form it's gonna take. I love life. I love life. And that's the role of philosophy, thinking about life. Let me be a little pedantic because there's no such thing as real meaning, right? I think meaning of life gets at the same kind of relationship between you and the glass of water, between whatever the forces of the universe that created the planets, the proteins, the multi cell organisms, the intelligent early humans, the beautiful human civilizations and the technologies that will overtake them. Well, let's talk a little bit about life and death. Life is, I don't know, this one's from you actually, simple machines constructing more complex machines. So this is yet another way to find meaning. Life is the cell. Or human life existence. That's the meaning of life. Same thing with life. So your life has meaning if you have affected either knowledge or people or something beyond yourself. And you did ask about the meaning of life and he answered, love. Is that the first thing that you would say is life? The preciousness of life, as the Buddhists say. Life is a motherfucker, as you said. Life is meant to be lived. But nonetheless, the creations that we make and whether it's the love or the joy or the engagement or the perspective shift that that cascades into other minds, I think that's a big, big, big part of the meaning of life. But I do feel like in a way that the meaning of life is that pursuit, of course biologically is to spread our species, but also to pursue knowledge and science and innovation and freedom most importantly. And that's that I believe that the meaning of my life is to try to make the world a little bit better before I go. Life is all about creating new things. That your own meaning of life and the reward function. And I think that's the meaning of life. The meaning of life is where you find it as a conscious creature, but it's consciousness that somehow makes value possible. So there's human life, and there's life. I think life is simply for each and every one of us to add on to. Well, I mean, I don't believe in God, so God doesn't play a role in my view of the meaning of life. I think life has meaning for us because we are conscious. Okay, so let's talk about life. So it's almost the definition of life. Life is amazing. Life is amazing. Now this is our meaning of life. If you find that in social connections or in raising a family, then that's the meaning of life for you. So you've said that the meaning of life is to win. And it turns out that, and I put together this little passage that was explaining to all those guests to my 42nd birthday party why we were talking about the meaning of life. Our existence here on earth, the whole thing. Sometimes the meaning of life is to clear the path for my daughter or for my students. You drew a line between meaning in life and meaning of life. Human life. Just life. Just life. Life as we know it. That's a very popular definition for life. There's a rubric for life. But I'd say in this moment of time, the meaning of life is that we can build a future state of existence that is more fantastic than anything we could ever imagine. It's the meaning of life in society. It's what we do between the time we're born and the time we die that gives our life meaning. Oh yeah, life. For me personally, I think the meaning of life is to eat, is to sleep, is to fall in love, is to cry, and then to die. I think that if you look at the meaning of life, you look at what the cell is. And let me give you my definition of life. I think a meaning of our lives is that. I've come to the conclusion and realization that it's you yourself that defines the meaning of life. Life is a real balance between growth and death. So you're getting to the very definition of life. Yeah, life. And the meaning of life is, for me at least, to live in a way that honors the dead, seeks to learn from their accumulated wisdom because they do still outnumber us. Actually, there are three meanings of life. Yeah, so that's, this is the definition of life. Life. Love is the meaning of life. Of life. Of life. Of life. Of life. We're talking about life. Life is about accomplishing something meaningful. It is the meaning of life. So life for me has a lot of meaning. And so the meaning of life is to make sure that for as long as there are human beings, they are able to live the kind of fulfilled lives, ethically fulfilled, intellectually fulfilled, emotionally fulfilled lives that civilization has made possible. I think the meaning of life is to live. But the meaning of life is there is no meaning. Well, meaning of life. The meaning of life is to make meaning. I think the meaning of life is the meaning we give to it. The meaning of life is whatever you construct out of it.\""
      ]
     },
     "execution_count": 58,
     "metadata": {},
     "output_type": "execute_result"
    }
   ],
   "source": [
    "s"
   ]
  },
  {
   "cell_type": "code",
   "execution_count": 59,
   "id": "a8e68abc-4996-4945-920e-feab258b7666",
   "metadata": {},
   "outputs": [
    {
     "name": "stderr",
     "output_type": "stream",
     "text": [
      "Token indices sequence length is longer than the specified maximum sequence length for this model (1342 > 1024). Running this sequence through the model will result in indexing errors\n"
     ]
    },
    {
     "ename": "IndexError",
     "evalue": "index out of range in self",
     "output_type": "error",
     "traceback": [
      "\u001b[0;31m---------------------------------------------------------------------------\u001b[0m",
      "\u001b[0;31mIndexError\u001b[0m                                Traceback (most recent call last)",
      "Cell \u001b[0;32mIn [59], line 1\u001b[0m\n\u001b[0;32m----> 1\u001b[0m \u001b[38;5;28mprint\u001b[39m(\u001b[43msummarizer\u001b[49m\u001b[43m(\u001b[49m\u001b[43ms\u001b[49m\u001b[43m,\u001b[49m\u001b[43m \u001b[49m\u001b[43mmax_length\u001b[49m\u001b[38;5;241;43m=\u001b[39;49m\u001b[38;5;241;43m1000\u001b[39;49m\u001b[43m,\u001b[49m\u001b[43m \u001b[49m\u001b[43mmin_length\u001b[49m\u001b[38;5;241;43m=\u001b[39;49m\u001b[38;5;241;43m50\u001b[39;49m\u001b[43m,\u001b[49m\u001b[43m \u001b[49m\u001b[43mdo_sample\u001b[49m\u001b[38;5;241;43m=\u001b[39;49m\u001b[38;5;28;43;01mFalse\u001b[39;49;00m\u001b[43m)\u001b[49m)\n",
      "File \u001b[0;32m~/transformers-course/.env/lib/python3.10/site-packages/transformers/pipelines/text2text_generation.py:250\u001b[0m, in \u001b[0;36mSummarizationPipeline.__call__\u001b[0;34m(self, *args, **kwargs)\u001b[0m\n\u001b[1;32m    226\u001b[0m \u001b[38;5;28;01mdef\u001b[39;00m \u001b[38;5;21m__call__\u001b[39m(\u001b[38;5;28mself\u001b[39m, \u001b[38;5;241m*\u001b[39margs, \u001b[38;5;241m*\u001b[39m\u001b[38;5;241m*\u001b[39mkwargs):\n\u001b[1;32m    227\u001b[0m     \u001b[38;5;124mr\u001b[39m\u001b[38;5;124;03m\"\"\"\u001b[39;00m\n\u001b[1;32m    228\u001b[0m \u001b[38;5;124;03m    Summarize the text(s) given as inputs.\u001b[39;00m\n\u001b[1;32m    229\u001b[0m \n\u001b[0;32m   (...)\u001b[0m\n\u001b[1;32m    248\u001b[0m \u001b[38;5;124;03m          ids of the summary.\u001b[39;00m\n\u001b[1;32m    249\u001b[0m \u001b[38;5;124;03m    \"\"\"\u001b[39;00m\n\u001b[0;32m--> 250\u001b[0m     \u001b[38;5;28;01mreturn\u001b[39;00m \u001b[38;5;28;43msuper\u001b[39;49m\u001b[43m(\u001b[49m\u001b[43m)\u001b[49m\u001b[38;5;241;43m.\u001b[39;49m\u001b[38;5;21;43m__call__\u001b[39;49m\u001b[43m(\u001b[49m\u001b[38;5;241;43m*\u001b[39;49m\u001b[43margs\u001b[49m\u001b[43m,\u001b[49m\u001b[43m \u001b[49m\u001b[38;5;241;43m*\u001b[39;49m\u001b[38;5;241;43m*\u001b[39;49m\u001b[43mkwargs\u001b[49m\u001b[43m)\u001b[49m\n",
      "File \u001b[0;32m~/transformers-course/.env/lib/python3.10/site-packages/transformers/pipelines/text2text_generation.py:150\u001b[0m, in \u001b[0;36mText2TextGenerationPipeline.__call__\u001b[0;34m(self, *args, **kwargs)\u001b[0m\n\u001b[1;32m    121\u001b[0m \u001b[38;5;28;01mdef\u001b[39;00m \u001b[38;5;21m__call__\u001b[39m(\u001b[38;5;28mself\u001b[39m, \u001b[38;5;241m*\u001b[39margs, \u001b[38;5;241m*\u001b[39m\u001b[38;5;241m*\u001b[39mkwargs):\n\u001b[1;32m    122\u001b[0m     \u001b[38;5;124mr\u001b[39m\u001b[38;5;124;03m\"\"\"\u001b[39;00m\n\u001b[1;32m    123\u001b[0m \u001b[38;5;124;03m    Generate the output text(s) using text(s) given as inputs.\u001b[39;00m\n\u001b[1;32m    124\u001b[0m \n\u001b[0;32m   (...)\u001b[0m\n\u001b[1;32m    147\u001b[0m \u001b[38;5;124;03m          ids of the generated text.\u001b[39;00m\n\u001b[1;32m    148\u001b[0m \u001b[38;5;124;03m    \"\"\"\u001b[39;00m\n\u001b[0;32m--> 150\u001b[0m     result \u001b[38;5;241m=\u001b[39m \u001b[38;5;28;43msuper\u001b[39;49m\u001b[43m(\u001b[49m\u001b[43m)\u001b[49m\u001b[38;5;241;43m.\u001b[39;49m\u001b[38;5;21;43m__call__\u001b[39;49m\u001b[43m(\u001b[49m\u001b[38;5;241;43m*\u001b[39;49m\u001b[43margs\u001b[49m\u001b[43m,\u001b[49m\u001b[43m \u001b[49m\u001b[38;5;241;43m*\u001b[39;49m\u001b[38;5;241;43m*\u001b[39;49m\u001b[43mkwargs\u001b[49m\u001b[43m)\u001b[49m\n\u001b[1;32m    151\u001b[0m     \u001b[38;5;28;01mif\u001b[39;00m (\n\u001b[1;32m    152\u001b[0m         \u001b[38;5;28misinstance\u001b[39m(args[\u001b[38;5;241m0\u001b[39m], \u001b[38;5;28mlist\u001b[39m)\n\u001b[1;32m    153\u001b[0m         \u001b[38;5;129;01mand\u001b[39;00m \u001b[38;5;28mall\u001b[39m(\u001b[38;5;28misinstance\u001b[39m(el, \u001b[38;5;28mstr\u001b[39m) \u001b[38;5;28;01mfor\u001b[39;00m el \u001b[38;5;129;01min\u001b[39;00m args[\u001b[38;5;241m0\u001b[39m])\n\u001b[1;32m    154\u001b[0m         \u001b[38;5;129;01mand\u001b[39;00m \u001b[38;5;28mall\u001b[39m(\u001b[38;5;28mlen\u001b[39m(res) \u001b[38;5;241m==\u001b[39m \u001b[38;5;241m1\u001b[39m \u001b[38;5;28;01mfor\u001b[39;00m res \u001b[38;5;129;01min\u001b[39;00m result)\n\u001b[1;32m    155\u001b[0m     ):\n\u001b[1;32m    156\u001b[0m         \u001b[38;5;28;01mreturn\u001b[39;00m [res[\u001b[38;5;241m0\u001b[39m] \u001b[38;5;28;01mfor\u001b[39;00m res \u001b[38;5;129;01min\u001b[39;00m result]\n",
      "File \u001b[0;32m~/transformers-course/.env/lib/python3.10/site-packages/transformers/pipelines/base.py:1074\u001b[0m, in \u001b[0;36mPipeline.__call__\u001b[0;34m(self, inputs, num_workers, batch_size, *args, **kwargs)\u001b[0m\n\u001b[1;32m   1072\u001b[0m     \u001b[38;5;28;01mreturn\u001b[39;00m \u001b[38;5;28mself\u001b[39m\u001b[38;5;241m.\u001b[39miterate(inputs, preprocess_params, forward_params, postprocess_params)\n\u001b[1;32m   1073\u001b[0m \u001b[38;5;28;01melse\u001b[39;00m:\n\u001b[0;32m-> 1074\u001b[0m     \u001b[38;5;28;01mreturn\u001b[39;00m \u001b[38;5;28;43mself\u001b[39;49m\u001b[38;5;241;43m.\u001b[39;49m\u001b[43mrun_single\u001b[49m\u001b[43m(\u001b[49m\u001b[43minputs\u001b[49m\u001b[43m,\u001b[49m\u001b[43m \u001b[49m\u001b[43mpreprocess_params\u001b[49m\u001b[43m,\u001b[49m\u001b[43m \u001b[49m\u001b[43mforward_params\u001b[49m\u001b[43m,\u001b[49m\u001b[43m \u001b[49m\u001b[43mpostprocess_params\u001b[49m\u001b[43m)\u001b[49m\n",
      "File \u001b[0;32m~/transformers-course/.env/lib/python3.10/site-packages/transformers/pipelines/base.py:1081\u001b[0m, in \u001b[0;36mPipeline.run_single\u001b[0;34m(self, inputs, preprocess_params, forward_params, postprocess_params)\u001b[0m\n\u001b[1;32m   1079\u001b[0m \u001b[38;5;28;01mdef\u001b[39;00m \u001b[38;5;21mrun_single\u001b[39m(\u001b[38;5;28mself\u001b[39m, inputs, preprocess_params, forward_params, postprocess_params):\n\u001b[1;32m   1080\u001b[0m     model_inputs \u001b[38;5;241m=\u001b[39m \u001b[38;5;28mself\u001b[39m\u001b[38;5;241m.\u001b[39mpreprocess(inputs, \u001b[38;5;241m*\u001b[39m\u001b[38;5;241m*\u001b[39mpreprocess_params)\n\u001b[0;32m-> 1081\u001b[0m     model_outputs \u001b[38;5;241m=\u001b[39m \u001b[38;5;28;43mself\u001b[39;49m\u001b[38;5;241;43m.\u001b[39;49m\u001b[43mforward\u001b[49m\u001b[43m(\u001b[49m\u001b[43mmodel_inputs\u001b[49m\u001b[43m,\u001b[49m\u001b[43m \u001b[49m\u001b[38;5;241;43m*\u001b[39;49m\u001b[38;5;241;43m*\u001b[39;49m\u001b[43mforward_params\u001b[49m\u001b[43m)\u001b[49m\n\u001b[1;32m   1082\u001b[0m     outputs \u001b[38;5;241m=\u001b[39m \u001b[38;5;28mself\u001b[39m\u001b[38;5;241m.\u001b[39mpostprocess(model_outputs, \u001b[38;5;241m*\u001b[39m\u001b[38;5;241m*\u001b[39mpostprocess_params)\n\u001b[1;32m   1083\u001b[0m     \u001b[38;5;28;01mreturn\u001b[39;00m outputs\n",
      "File \u001b[0;32m~/transformers-course/.env/lib/python3.10/site-packages/transformers/pipelines/base.py:990\u001b[0m, in \u001b[0;36mPipeline.forward\u001b[0;34m(self, model_inputs, **forward_params)\u001b[0m\n\u001b[1;32m    988\u001b[0m     \u001b[38;5;28;01mwith\u001b[39;00m inference_context():\n\u001b[1;32m    989\u001b[0m         model_inputs \u001b[38;5;241m=\u001b[39m \u001b[38;5;28mself\u001b[39m\u001b[38;5;241m.\u001b[39m_ensure_tensor_on_device(model_inputs, device\u001b[38;5;241m=\u001b[39m\u001b[38;5;28mself\u001b[39m\u001b[38;5;241m.\u001b[39mdevice)\n\u001b[0;32m--> 990\u001b[0m         model_outputs \u001b[38;5;241m=\u001b[39m \u001b[38;5;28;43mself\u001b[39;49m\u001b[38;5;241;43m.\u001b[39;49m\u001b[43m_forward\u001b[49m\u001b[43m(\u001b[49m\u001b[43mmodel_inputs\u001b[49m\u001b[43m,\u001b[49m\u001b[43m \u001b[49m\u001b[38;5;241;43m*\u001b[39;49m\u001b[38;5;241;43m*\u001b[39;49m\u001b[43mforward_params\u001b[49m\u001b[43m)\u001b[49m\n\u001b[1;32m    991\u001b[0m         model_outputs \u001b[38;5;241m=\u001b[39m \u001b[38;5;28mself\u001b[39m\u001b[38;5;241m.\u001b[39m_ensure_tensor_on_device(model_outputs, device\u001b[38;5;241m=\u001b[39mtorch\u001b[38;5;241m.\u001b[39mdevice(\u001b[38;5;124m\"\u001b[39m\u001b[38;5;124mcpu\u001b[39m\u001b[38;5;124m\"\u001b[39m))\n\u001b[1;32m    992\u001b[0m \u001b[38;5;28;01melse\u001b[39;00m:\n",
      "File \u001b[0;32m~/transformers-course/.env/lib/python3.10/site-packages/transformers/pipelines/text2text_generation.py:172\u001b[0m, in \u001b[0;36mText2TextGenerationPipeline._forward\u001b[0;34m(self, model_inputs, **generate_kwargs)\u001b[0m\n\u001b[1;32m    170\u001b[0m generate_kwargs[\u001b[38;5;124m\"\u001b[39m\u001b[38;5;124mmax_length\u001b[39m\u001b[38;5;124m\"\u001b[39m] \u001b[38;5;241m=\u001b[39m generate_kwargs\u001b[38;5;241m.\u001b[39mget(\u001b[38;5;124m\"\u001b[39m\u001b[38;5;124mmax_length\u001b[39m\u001b[38;5;124m\"\u001b[39m, \u001b[38;5;28mself\u001b[39m\u001b[38;5;241m.\u001b[39mmodel\u001b[38;5;241m.\u001b[39mconfig\u001b[38;5;241m.\u001b[39mmax_length)\n\u001b[1;32m    171\u001b[0m \u001b[38;5;28mself\u001b[39m\u001b[38;5;241m.\u001b[39mcheck_inputs(input_length, generate_kwargs[\u001b[38;5;124m\"\u001b[39m\u001b[38;5;124mmin_length\u001b[39m\u001b[38;5;124m\"\u001b[39m], generate_kwargs[\u001b[38;5;124m\"\u001b[39m\u001b[38;5;124mmax_length\u001b[39m\u001b[38;5;124m\"\u001b[39m])\n\u001b[0;32m--> 172\u001b[0m output_ids \u001b[38;5;241m=\u001b[39m \u001b[38;5;28;43mself\u001b[39;49m\u001b[38;5;241;43m.\u001b[39;49m\u001b[43mmodel\u001b[49m\u001b[38;5;241;43m.\u001b[39;49m\u001b[43mgenerate\u001b[49m\u001b[43m(\u001b[49m\u001b[38;5;241;43m*\u001b[39;49m\u001b[38;5;241;43m*\u001b[39;49m\u001b[43mmodel_inputs\u001b[49m\u001b[43m,\u001b[49m\u001b[43m \u001b[49m\u001b[38;5;241;43m*\u001b[39;49m\u001b[38;5;241;43m*\u001b[39;49m\u001b[43mgenerate_kwargs\u001b[49m\u001b[43m)\u001b[49m\n\u001b[1;32m    173\u001b[0m out_b \u001b[38;5;241m=\u001b[39m output_ids\u001b[38;5;241m.\u001b[39mshape[\u001b[38;5;241m0\u001b[39m]\n\u001b[1;32m    174\u001b[0m \u001b[38;5;28;01mif\u001b[39;00m \u001b[38;5;28mself\u001b[39m\u001b[38;5;241m.\u001b[39mframework \u001b[38;5;241m==\u001b[39m \u001b[38;5;124m\"\u001b[39m\u001b[38;5;124mpt\u001b[39m\u001b[38;5;124m\"\u001b[39m:\n",
      "File \u001b[0;32m~/transformers-course/.env/lib/python3.10/site-packages/torch/autograd/grad_mode.py:27\u001b[0m, in \u001b[0;36m_DecoratorContextManager.__call__.<locals>.decorate_context\u001b[0;34m(*args, **kwargs)\u001b[0m\n\u001b[1;32m     24\u001b[0m \u001b[38;5;129m@functools\u001b[39m\u001b[38;5;241m.\u001b[39mwraps(func)\n\u001b[1;32m     25\u001b[0m \u001b[38;5;28;01mdef\u001b[39;00m \u001b[38;5;21mdecorate_context\u001b[39m(\u001b[38;5;241m*\u001b[39margs, \u001b[38;5;241m*\u001b[39m\u001b[38;5;241m*\u001b[39mkwargs):\n\u001b[1;32m     26\u001b[0m     \u001b[38;5;28;01mwith\u001b[39;00m \u001b[38;5;28mself\u001b[39m\u001b[38;5;241m.\u001b[39mclone():\n\u001b[0;32m---> 27\u001b[0m         \u001b[38;5;28;01mreturn\u001b[39;00m \u001b[43mfunc\u001b[49m\u001b[43m(\u001b[49m\u001b[38;5;241;43m*\u001b[39;49m\u001b[43margs\u001b[49m\u001b[43m,\u001b[49m\u001b[43m \u001b[49m\u001b[38;5;241;43m*\u001b[39;49m\u001b[38;5;241;43m*\u001b[39;49m\u001b[43mkwargs\u001b[49m\u001b[43m)\u001b[49m\n",
      "File \u001b[0;32m~/transformers-course/.env/lib/python3.10/site-packages/transformers/generation_utils.py:1339\u001b[0m, in \u001b[0;36mGenerationMixin.generate\u001b[0;34m(self, inputs, max_length, min_length, do_sample, early_stopping, num_beams, temperature, penalty_alpha, top_k, top_p, typical_p, repetition_penalty, bad_words_ids, force_words_ids, bos_token_id, pad_token_id, eos_token_id, length_penalty, no_repeat_ngram_size, encoder_no_repeat_ngram_size, num_return_sequences, max_time, max_new_tokens, decoder_start_token_id, use_cache, num_beam_groups, diversity_penalty, prefix_allowed_tokens_fn, logits_processor, renormalize_logits, stopping_criteria, constraints, output_attentions, output_hidden_states, output_scores, return_dict_in_generate, forced_bos_token_id, forced_eos_token_id, remove_invalid_values, synced_gpus, exponential_decay_length_penalty, suppress_tokens, begin_suppress_tokens, forced_decoder_ids, **model_kwargs)\u001b[0m\n\u001b[1;32m   1331\u001b[0m         logger\u001b[38;5;241m.\u001b[39mwarning(\n\u001b[1;32m   1332\u001b[0m             \u001b[38;5;124m\"\u001b[39m\u001b[38;5;124mA decoder-only architecture is being used, but right-padding was detected! For correct \u001b[39m\u001b[38;5;124m\"\u001b[39m\n\u001b[1;32m   1333\u001b[0m             \u001b[38;5;124m\"\u001b[39m\u001b[38;5;124mgeneration results, please set `padding_side=\u001b[39m\u001b[38;5;124m'\u001b[39m\u001b[38;5;124mleft\u001b[39m\u001b[38;5;124m'\u001b[39m\u001b[38;5;124m` when initializing the tokenizer.\u001b[39m\u001b[38;5;124m\"\u001b[39m\n\u001b[1;32m   1334\u001b[0m         )\n\u001b[1;32m   1336\u001b[0m \u001b[38;5;28;01mif\u001b[39;00m \u001b[38;5;28mself\u001b[39m\u001b[38;5;241m.\u001b[39mconfig\u001b[38;5;241m.\u001b[39mis_encoder_decoder \u001b[38;5;129;01mand\u001b[39;00m \u001b[38;5;124m\"\u001b[39m\u001b[38;5;124mencoder_outputs\u001b[39m\u001b[38;5;124m\"\u001b[39m \u001b[38;5;129;01mnot\u001b[39;00m \u001b[38;5;129;01min\u001b[39;00m model_kwargs:\n\u001b[1;32m   1337\u001b[0m     \u001b[38;5;66;03m# if model is encoder decoder encoder_outputs are created\u001b[39;00m\n\u001b[1;32m   1338\u001b[0m     \u001b[38;5;66;03m# and added to `model_kwargs`\u001b[39;00m\n\u001b[0;32m-> 1339\u001b[0m     model_kwargs \u001b[38;5;241m=\u001b[39m \u001b[38;5;28;43mself\u001b[39;49m\u001b[38;5;241;43m.\u001b[39;49m\u001b[43m_prepare_encoder_decoder_kwargs_for_generation\u001b[49m\u001b[43m(\u001b[49m\n\u001b[1;32m   1340\u001b[0m \u001b[43m        \u001b[49m\u001b[43minputs_tensor\u001b[49m\u001b[43m,\u001b[49m\u001b[43m \u001b[49m\u001b[43mmodel_kwargs\u001b[49m\u001b[43m,\u001b[49m\u001b[43m \u001b[49m\u001b[43mmodel_input_name\u001b[49m\n\u001b[1;32m   1341\u001b[0m \u001b[43m    \u001b[49m\u001b[43m)\u001b[49m\n\u001b[1;32m   1343\u001b[0m \u001b[38;5;66;03m# 4. Prepare `input_ids` which will be used for auto-regressive generation\u001b[39;00m\n\u001b[1;32m   1344\u001b[0m \u001b[38;5;28;01mif\u001b[39;00m \u001b[38;5;28mself\u001b[39m\u001b[38;5;241m.\u001b[39mconfig\u001b[38;5;241m.\u001b[39mis_encoder_decoder:\n",
      "File \u001b[0;32m~/transformers-course/.env/lib/python3.10/site-packages/transformers/generation_utils.py:583\u001b[0m, in \u001b[0;36mGenerationMixin._prepare_encoder_decoder_kwargs_for_generation\u001b[0;34m(self, inputs_tensor, model_kwargs, model_input_name)\u001b[0m\n\u001b[1;32m    581\u001b[0m encoder_kwargs[\u001b[38;5;124m\"\u001b[39m\u001b[38;5;124mreturn_dict\u001b[39m\u001b[38;5;124m\"\u001b[39m] \u001b[38;5;241m=\u001b[39m \u001b[38;5;28;01mTrue\u001b[39;00m\n\u001b[1;32m    582\u001b[0m encoder_kwargs[model_input_name] \u001b[38;5;241m=\u001b[39m inputs_tensor\n\u001b[0;32m--> 583\u001b[0m model_kwargs[\u001b[38;5;124m\"\u001b[39m\u001b[38;5;124mencoder_outputs\u001b[39m\u001b[38;5;124m\"\u001b[39m]: ModelOutput \u001b[38;5;241m=\u001b[39m \u001b[43mencoder\u001b[49m\u001b[43m(\u001b[49m\u001b[38;5;241;43m*\u001b[39;49m\u001b[38;5;241;43m*\u001b[39;49m\u001b[43mencoder_kwargs\u001b[49m\u001b[43m)\u001b[49m\n\u001b[1;32m    585\u001b[0m \u001b[38;5;28;01mreturn\u001b[39;00m model_kwargs\n",
      "File \u001b[0;32m~/transformers-course/.env/lib/python3.10/site-packages/torch/nn/modules/module.py:1190\u001b[0m, in \u001b[0;36mModule._call_impl\u001b[0;34m(self, *input, **kwargs)\u001b[0m\n\u001b[1;32m   1186\u001b[0m \u001b[38;5;66;03m# If we don't have any hooks, we want to skip the rest of the logic in\u001b[39;00m\n\u001b[1;32m   1187\u001b[0m \u001b[38;5;66;03m# this function, and just call forward.\u001b[39;00m\n\u001b[1;32m   1188\u001b[0m \u001b[38;5;28;01mif\u001b[39;00m \u001b[38;5;129;01mnot\u001b[39;00m (\u001b[38;5;28mself\u001b[39m\u001b[38;5;241m.\u001b[39m_backward_hooks \u001b[38;5;129;01mor\u001b[39;00m \u001b[38;5;28mself\u001b[39m\u001b[38;5;241m.\u001b[39m_forward_hooks \u001b[38;5;129;01mor\u001b[39;00m \u001b[38;5;28mself\u001b[39m\u001b[38;5;241m.\u001b[39m_forward_pre_hooks \u001b[38;5;129;01mor\u001b[39;00m _global_backward_hooks\n\u001b[1;32m   1189\u001b[0m         \u001b[38;5;129;01mor\u001b[39;00m _global_forward_hooks \u001b[38;5;129;01mor\u001b[39;00m _global_forward_pre_hooks):\n\u001b[0;32m-> 1190\u001b[0m     \u001b[38;5;28;01mreturn\u001b[39;00m \u001b[43mforward_call\u001b[49m\u001b[43m(\u001b[49m\u001b[38;5;241;43m*\u001b[39;49m\u001b[38;5;28;43minput\u001b[39;49m\u001b[43m,\u001b[49m\u001b[43m \u001b[49m\u001b[38;5;241;43m*\u001b[39;49m\u001b[38;5;241;43m*\u001b[39;49m\u001b[43mkwargs\u001b[49m\u001b[43m)\u001b[49m\n\u001b[1;32m   1191\u001b[0m \u001b[38;5;66;03m# Do not call functions when jit is used\u001b[39;00m\n\u001b[1;32m   1192\u001b[0m full_backward_hooks, non_full_backward_hooks \u001b[38;5;241m=\u001b[39m [], []\n",
      "File \u001b[0;32m~/transformers-course/.env/lib/python3.10/site-packages/transformers/models/bart/modeling_bart.py:804\u001b[0m, in \u001b[0;36mBartEncoder.forward\u001b[0;34m(self, input_ids, attention_mask, head_mask, inputs_embeds, output_attentions, output_hidden_states, return_dict)\u001b[0m\n\u001b[1;32m    801\u001b[0m \u001b[38;5;28;01mif\u001b[39;00m inputs_embeds \u001b[38;5;129;01mis\u001b[39;00m \u001b[38;5;28;01mNone\u001b[39;00m:\n\u001b[1;32m    802\u001b[0m     inputs_embeds \u001b[38;5;241m=\u001b[39m \u001b[38;5;28mself\u001b[39m\u001b[38;5;241m.\u001b[39membed_tokens(input_ids) \u001b[38;5;241m*\u001b[39m \u001b[38;5;28mself\u001b[39m\u001b[38;5;241m.\u001b[39membed_scale\n\u001b[0;32m--> 804\u001b[0m embed_pos \u001b[38;5;241m=\u001b[39m \u001b[38;5;28;43mself\u001b[39;49m\u001b[38;5;241;43m.\u001b[39;49m\u001b[43membed_positions\u001b[49m\u001b[43m(\u001b[49m\u001b[38;5;28;43minput\u001b[39;49m\u001b[43m)\u001b[49m\n\u001b[1;32m    805\u001b[0m embed_pos \u001b[38;5;241m=\u001b[39m embed_pos\u001b[38;5;241m.\u001b[39mto(inputs_embeds\u001b[38;5;241m.\u001b[39mdevice)\n\u001b[1;32m    807\u001b[0m hidden_states \u001b[38;5;241m=\u001b[39m inputs_embeds \u001b[38;5;241m+\u001b[39m embed_pos\n",
      "File \u001b[0;32m~/transformers-course/.env/lib/python3.10/site-packages/torch/nn/modules/module.py:1190\u001b[0m, in \u001b[0;36mModule._call_impl\u001b[0;34m(self, *input, **kwargs)\u001b[0m\n\u001b[1;32m   1186\u001b[0m \u001b[38;5;66;03m# If we don't have any hooks, we want to skip the rest of the logic in\u001b[39;00m\n\u001b[1;32m   1187\u001b[0m \u001b[38;5;66;03m# this function, and just call forward.\u001b[39;00m\n\u001b[1;32m   1188\u001b[0m \u001b[38;5;28;01mif\u001b[39;00m \u001b[38;5;129;01mnot\u001b[39;00m (\u001b[38;5;28mself\u001b[39m\u001b[38;5;241m.\u001b[39m_backward_hooks \u001b[38;5;129;01mor\u001b[39;00m \u001b[38;5;28mself\u001b[39m\u001b[38;5;241m.\u001b[39m_forward_hooks \u001b[38;5;129;01mor\u001b[39;00m \u001b[38;5;28mself\u001b[39m\u001b[38;5;241m.\u001b[39m_forward_pre_hooks \u001b[38;5;129;01mor\u001b[39;00m _global_backward_hooks\n\u001b[1;32m   1189\u001b[0m         \u001b[38;5;129;01mor\u001b[39;00m _global_forward_hooks \u001b[38;5;129;01mor\u001b[39;00m _global_forward_pre_hooks):\n\u001b[0;32m-> 1190\u001b[0m     \u001b[38;5;28;01mreturn\u001b[39;00m \u001b[43mforward_call\u001b[49m\u001b[43m(\u001b[49m\u001b[38;5;241;43m*\u001b[39;49m\u001b[38;5;28;43minput\u001b[39;49m\u001b[43m,\u001b[49m\u001b[43m \u001b[49m\u001b[38;5;241;43m*\u001b[39;49m\u001b[38;5;241;43m*\u001b[39;49m\u001b[43mkwargs\u001b[49m\u001b[43m)\u001b[49m\n\u001b[1;32m   1191\u001b[0m \u001b[38;5;66;03m# Do not call functions when jit is used\u001b[39;00m\n\u001b[1;32m   1192\u001b[0m full_backward_hooks, non_full_backward_hooks \u001b[38;5;241m=\u001b[39m [], []\n",
      "File \u001b[0;32m~/transformers-course/.env/lib/python3.10/site-packages/transformers/models/bart/modeling_bart.py:139\u001b[0m, in \u001b[0;36mBartLearnedPositionalEmbedding.forward\u001b[0;34m(self, input_ids, past_key_values_length)\u001b[0m\n\u001b[1;32m    134\u001b[0m bsz, seq_len \u001b[38;5;241m=\u001b[39m input_ids\u001b[38;5;241m.\u001b[39mshape[:\u001b[38;5;241m2\u001b[39m]\n\u001b[1;32m    135\u001b[0m positions \u001b[38;5;241m=\u001b[39m torch\u001b[38;5;241m.\u001b[39marange(\n\u001b[1;32m    136\u001b[0m     past_key_values_length, past_key_values_length \u001b[38;5;241m+\u001b[39m seq_len, dtype\u001b[38;5;241m=\u001b[39mtorch\u001b[38;5;241m.\u001b[39mlong, device\u001b[38;5;241m=\u001b[39m\u001b[38;5;28mself\u001b[39m\u001b[38;5;241m.\u001b[39mweight\u001b[38;5;241m.\u001b[39mdevice\n\u001b[1;32m    137\u001b[0m )\u001b[38;5;241m.\u001b[39mexpand(bsz, \u001b[38;5;241m-\u001b[39m\u001b[38;5;241m1\u001b[39m)\n\u001b[0;32m--> 139\u001b[0m \u001b[38;5;28;01mreturn\u001b[39;00m \u001b[38;5;28;43msuper\u001b[39;49m\u001b[43m(\u001b[49m\u001b[43m)\u001b[49m\u001b[38;5;241;43m.\u001b[39;49m\u001b[43mforward\u001b[49m\u001b[43m(\u001b[49m\u001b[43mpositions\u001b[49m\u001b[43m \u001b[49m\u001b[38;5;241;43m+\u001b[39;49m\u001b[43m \u001b[49m\u001b[38;5;28;43mself\u001b[39;49m\u001b[38;5;241;43m.\u001b[39;49m\u001b[43moffset\u001b[49m\u001b[43m)\u001b[49m\n",
      "File \u001b[0;32m~/transformers-course/.env/lib/python3.10/site-packages/torch/nn/modules/sparse.py:160\u001b[0m, in \u001b[0;36mEmbedding.forward\u001b[0;34m(self, input)\u001b[0m\n\u001b[1;32m    159\u001b[0m \u001b[38;5;28;01mdef\u001b[39;00m \u001b[38;5;21mforward\u001b[39m(\u001b[38;5;28mself\u001b[39m, \u001b[38;5;28minput\u001b[39m: Tensor) \u001b[38;5;241m-\u001b[39m\u001b[38;5;241m>\u001b[39m Tensor:\n\u001b[0;32m--> 160\u001b[0m     \u001b[38;5;28;01mreturn\u001b[39;00m \u001b[43mF\u001b[49m\u001b[38;5;241;43m.\u001b[39;49m\u001b[43membedding\u001b[49m\u001b[43m(\u001b[49m\n\u001b[1;32m    161\u001b[0m \u001b[43m        \u001b[49m\u001b[38;5;28;43minput\u001b[39;49m\u001b[43m,\u001b[49m\u001b[43m \u001b[49m\u001b[38;5;28;43mself\u001b[39;49m\u001b[38;5;241;43m.\u001b[39;49m\u001b[43mweight\u001b[49m\u001b[43m,\u001b[49m\u001b[43m \u001b[49m\u001b[38;5;28;43mself\u001b[39;49m\u001b[38;5;241;43m.\u001b[39;49m\u001b[43mpadding_idx\u001b[49m\u001b[43m,\u001b[49m\u001b[43m \u001b[49m\u001b[38;5;28;43mself\u001b[39;49m\u001b[38;5;241;43m.\u001b[39;49m\u001b[43mmax_norm\u001b[49m\u001b[43m,\u001b[49m\n\u001b[1;32m    162\u001b[0m \u001b[43m        \u001b[49m\u001b[38;5;28;43mself\u001b[39;49m\u001b[38;5;241;43m.\u001b[39;49m\u001b[43mnorm_type\u001b[49m\u001b[43m,\u001b[49m\u001b[43m \u001b[49m\u001b[38;5;28;43mself\u001b[39;49m\u001b[38;5;241;43m.\u001b[39;49m\u001b[43mscale_grad_by_freq\u001b[49m\u001b[43m,\u001b[49m\u001b[43m \u001b[49m\u001b[38;5;28;43mself\u001b[39;49m\u001b[38;5;241;43m.\u001b[39;49m\u001b[43msparse\u001b[49m\u001b[43m)\u001b[49m\n",
      "File \u001b[0;32m~/transformers-course/.env/lib/python3.10/site-packages/torch/nn/functional.py:2210\u001b[0m, in \u001b[0;36membedding\u001b[0;34m(input, weight, padding_idx, max_norm, norm_type, scale_grad_by_freq, sparse)\u001b[0m\n\u001b[1;32m   2204\u001b[0m     \u001b[38;5;66;03m# Note [embedding_renorm set_grad_enabled]\u001b[39;00m\n\u001b[1;32m   2205\u001b[0m     \u001b[38;5;66;03m# XXX: equivalent to\u001b[39;00m\n\u001b[1;32m   2206\u001b[0m     \u001b[38;5;66;03m# with torch.no_grad():\u001b[39;00m\n\u001b[1;32m   2207\u001b[0m     \u001b[38;5;66;03m#   torch.embedding_renorm_\u001b[39;00m\n\u001b[1;32m   2208\u001b[0m     \u001b[38;5;66;03m# remove once script supports set_grad_enabled\u001b[39;00m\n\u001b[1;32m   2209\u001b[0m     _no_grad_embedding_renorm_(weight, \u001b[38;5;28minput\u001b[39m, max_norm, norm_type)\n\u001b[0;32m-> 2210\u001b[0m \u001b[38;5;28;01mreturn\u001b[39;00m \u001b[43mtorch\u001b[49m\u001b[38;5;241;43m.\u001b[39;49m\u001b[43membedding\u001b[49m\u001b[43m(\u001b[49m\u001b[43mweight\u001b[49m\u001b[43m,\u001b[49m\u001b[43m \u001b[49m\u001b[38;5;28;43minput\u001b[39;49m\u001b[43m,\u001b[49m\u001b[43m \u001b[49m\u001b[43mpadding_idx\u001b[49m\u001b[43m,\u001b[49m\u001b[43m \u001b[49m\u001b[43mscale_grad_by_freq\u001b[49m\u001b[43m,\u001b[49m\u001b[43m \u001b[49m\u001b[43msparse\u001b[49m\u001b[43m)\u001b[49m\n",
      "\u001b[0;31mIndexError\u001b[0m: index out of range in self"
     ]
    }
   ],
   "source": [
    "print(summarizer(s, max_length=1000, min_length=50, do_sample=False))"
   ]
  },
  {
   "cell_type": "code",
   "execution_count": 61,
   "id": "00f33dc9-7401-4b37-9d6b-116012f91f21",
   "metadata": {},
   "outputs": [
    {
     "data": {
      "text/plain": [
       "5982"
      ]
     },
     "execution_count": 61,
     "metadata": {},
     "output_type": "execute_result"
    }
   ],
   "source": [
    "len(s)"
   ]
  },
  {
   "cell_type": "code",
   "execution_count": 62,
   "id": "54fd8ae3-87bb-4755-8294-546e41d82900",
   "metadata": {},
   "outputs": [],
   "source": [
    "def f(s, n):\n",
    "    return ' '.join(s.split()[:n])"
   ]
  },
  {
   "cell_type": "code",
   "execution_count": 77,
   "id": "fa282a6b-ca96-483a-b7e6-f995dc07c9a1",
   "metadata": {},
   "outputs": [],
   "source": [
    "ss=f(s,502)"
   ]
  },
  {
   "cell_type": "code",
   "execution_count": 78,
   "id": "b7c3e7a6-f85a-409f-8524-16168ffa0e2e",
   "metadata": {},
   "outputs": [
    {
     "data": {
      "text/plain": [
       "\"I have three short answers to it. You know, and it's an interesting philosophy of life. Here's the A way to think about it beyond what I just said, right? Actually, about life. Life is all about moving forward. Okay, so let's maybe start with the kind of most philosophical and abstract version of this. And it has to do with all the possible trajectories, right, that we can take through life, as we were talking about before. It's only life. This is our understanding of the world in which we live. This life is fun. The ultimate purpose of life, that I guess that's my ultimate purpose of life. So I think the meaning of life is like that, intrinsically desirable. This individual life of ours, your life, that unfortunately has to come to an end as far as we know for now. So, and whatever I doing, just implementation of my understanding of life. And I think, you know, the fact of mortality gives meaning to life, you know? Oh, so I made this point about thinking life is the physics of existence. Some fundamental truth of it. I don't think there's a better way to end a discussion of the meaning of life. And at the same time, the immediacy of death and then of course, the continuation of life in whatever form it's gonna take. I love life. I love life. And that's the role of philosophy, thinking about life. Let me be a little pedantic because there's no such thing as real meaning, right? I think meaning of life gets at the same kind of relationship between you and the glass of water, between whatever the forces of the universe that created the planets, the proteins, the multi cell organisms, the intelligent early humans, the beautiful human civilizations and the technologies that will overtake them. Well, let's talk a little bit about life and death. Life is, I don't know, this one's from you actually, simple machines constructing more complex machines. So this is yet another way to find meaning. Life is the cell. Or human life existence. That's the meaning of life. Same thing with life. So your life has meaning if you have affected either knowledge or people or something beyond yourself. And you did ask about the meaning of life and he answered, love. Is that the first thing that you would say is life? The preciousness of life, as the Buddhists say. Life is a motherfucker, as you said. Life is meant to be lived. But nonetheless, the creations that we make and whether it's the love or the joy or the engagement or the perspective shift that that cascades into other minds, I think that's a big, big, big part of the meaning of life. But I do feel like in a way that the meaning of life is that pursuit, of course biologically is to spread our species, but also to pursue knowledge and science and innovation and freedom most importantly.\""
      ]
     },
     "execution_count": 78,
     "metadata": {},
     "output_type": "execute_result"
    }
   ],
   "source": [
    "ss"
   ]
  },
  {
   "cell_type": "code",
   "execution_count": 79,
   "id": "7fe9cdf3-2cf4-43ac-bb1a-4646a08bf75a",
   "metadata": {},
   "outputs": [
    {
     "name": "stderr",
     "output_type": "stream",
     "text": [
      "Your max_length is set to 1000, but you input_length is only 606. You might consider decreasing max_length manually, e.g. summarizer('...', max_length=303)\n"
     ]
    },
    {
     "name": "stdout",
     "output_type": "stream",
     "text": [
      "[{'summary_text': '\"I think meaning of life gets at the same kind of relationship between you and the glass of water,\" he says. \"The creations that we make and whether it\\'s the love or the joy or the engagement or the perspective shift that that cascades into other minds\" \"Life is meant to be lived. Life is a motherfucker, as you said.\"'}]\n"
     ]
    }
   ],
   "source": [
    "print(summarizer(ss, max_length=1000, min_length=50, do_sample=False))"
   ]
  },
  {
   "cell_type": "code",
   "execution_count": 80,
   "id": "0b002fd1-7337-4ebe-9a3e-db8e791d7f94",
   "metadata": {},
   "outputs": [
    {
     "name": "stdout",
     "output_type": "stream",
     "text": [
      "[{'summary_text': '\"I think meaning of life gets at the same kind of relationship between you and the glass of water,\" he says. \"The creations that we make and whether it\\'s the love or the joy or the engagement or the perspective shift that that cascades into other minds\" \"Life is meant to be lived. Life is a motherfucker, as you said.\"'}]\n"
     ]
    }
   ],
   "source": [
    "print(summarizer(ss, max_length=303, min_length=50, do_sample=False))"
   ]
  },
  {
   "cell_type": "code",
   "execution_count": 82,
   "id": "9f7dfb9d-3cac-43d3-bffa-e3b1ce171964",
   "metadata": {},
   "outputs": [
    {
     "data": {
      "text/plain": [
       "[{'summary_text': '\"I think meaning of life gets at the same kind of relationship between you and the glass of water,\" he says. \"The creations that we make and whether it\\'s the love or the joy or the engagement or the perspective shift that that cascades into other minds\" \"Life is meant to be lived. Life is a motherfucker, as you said.\"'}]"
      ]
     },
     "execution_count": 82,
     "metadata": {},
     "output_type": "execute_result"
    }
   ],
   "source": [
    "summarizer(ss)"
   ]
  },
  {
   "cell_type": "code",
   "execution_count": 83,
   "id": "4da08a7e-ac03-44db-ba59-9dec47e0ac46",
   "metadata": {},
   "outputs": [
    {
     "ename": "IndexError",
     "evalue": "index out of range in self",
     "output_type": "error",
     "traceback": [
      "\u001b[0;31m---------------------------------------------------------------------------\u001b[0m",
      "\u001b[0;31mIndexError\u001b[0m                                Traceback (most recent call last)",
      "Cell \u001b[0;32mIn [83], line 1\u001b[0m\n\u001b[0;32m----> 1\u001b[0m \u001b[43msummarizer\u001b[49m\u001b[43m(\u001b[49m\u001b[43ms\u001b[49m\u001b[43m)\u001b[49m\n",
      "File \u001b[0;32m~/transformers-course/.env/lib/python3.10/site-packages/transformers/pipelines/text2text_generation.py:250\u001b[0m, in \u001b[0;36mSummarizationPipeline.__call__\u001b[0;34m(self, *args, **kwargs)\u001b[0m\n\u001b[1;32m    226\u001b[0m \u001b[38;5;28;01mdef\u001b[39;00m \u001b[38;5;21m__call__\u001b[39m(\u001b[38;5;28mself\u001b[39m, \u001b[38;5;241m*\u001b[39margs, \u001b[38;5;241m*\u001b[39m\u001b[38;5;241m*\u001b[39mkwargs):\n\u001b[1;32m    227\u001b[0m     \u001b[38;5;124mr\u001b[39m\u001b[38;5;124;03m\"\"\"\u001b[39;00m\n\u001b[1;32m    228\u001b[0m \u001b[38;5;124;03m    Summarize the text(s) given as inputs.\u001b[39;00m\n\u001b[1;32m    229\u001b[0m \n\u001b[0;32m   (...)\u001b[0m\n\u001b[1;32m    248\u001b[0m \u001b[38;5;124;03m          ids of the summary.\u001b[39;00m\n\u001b[1;32m    249\u001b[0m \u001b[38;5;124;03m    \"\"\"\u001b[39;00m\n\u001b[0;32m--> 250\u001b[0m     \u001b[38;5;28;01mreturn\u001b[39;00m \u001b[38;5;28;43msuper\u001b[39;49m\u001b[43m(\u001b[49m\u001b[43m)\u001b[49m\u001b[38;5;241;43m.\u001b[39;49m\u001b[38;5;21;43m__call__\u001b[39;49m\u001b[43m(\u001b[49m\u001b[38;5;241;43m*\u001b[39;49m\u001b[43margs\u001b[49m\u001b[43m,\u001b[49m\u001b[43m \u001b[49m\u001b[38;5;241;43m*\u001b[39;49m\u001b[38;5;241;43m*\u001b[39;49m\u001b[43mkwargs\u001b[49m\u001b[43m)\u001b[49m\n",
      "File \u001b[0;32m~/transformers-course/.env/lib/python3.10/site-packages/transformers/pipelines/text2text_generation.py:150\u001b[0m, in \u001b[0;36mText2TextGenerationPipeline.__call__\u001b[0;34m(self, *args, **kwargs)\u001b[0m\n\u001b[1;32m    121\u001b[0m \u001b[38;5;28;01mdef\u001b[39;00m \u001b[38;5;21m__call__\u001b[39m(\u001b[38;5;28mself\u001b[39m, \u001b[38;5;241m*\u001b[39margs, \u001b[38;5;241m*\u001b[39m\u001b[38;5;241m*\u001b[39mkwargs):\n\u001b[1;32m    122\u001b[0m     \u001b[38;5;124mr\u001b[39m\u001b[38;5;124;03m\"\"\"\u001b[39;00m\n\u001b[1;32m    123\u001b[0m \u001b[38;5;124;03m    Generate the output text(s) using text(s) given as inputs.\u001b[39;00m\n\u001b[1;32m    124\u001b[0m \n\u001b[0;32m   (...)\u001b[0m\n\u001b[1;32m    147\u001b[0m \u001b[38;5;124;03m          ids of the generated text.\u001b[39;00m\n\u001b[1;32m    148\u001b[0m \u001b[38;5;124;03m    \"\"\"\u001b[39;00m\n\u001b[0;32m--> 150\u001b[0m     result \u001b[38;5;241m=\u001b[39m \u001b[38;5;28;43msuper\u001b[39;49m\u001b[43m(\u001b[49m\u001b[43m)\u001b[49m\u001b[38;5;241;43m.\u001b[39;49m\u001b[38;5;21;43m__call__\u001b[39;49m\u001b[43m(\u001b[49m\u001b[38;5;241;43m*\u001b[39;49m\u001b[43margs\u001b[49m\u001b[43m,\u001b[49m\u001b[43m \u001b[49m\u001b[38;5;241;43m*\u001b[39;49m\u001b[38;5;241;43m*\u001b[39;49m\u001b[43mkwargs\u001b[49m\u001b[43m)\u001b[49m\n\u001b[1;32m    151\u001b[0m     \u001b[38;5;28;01mif\u001b[39;00m (\n\u001b[1;32m    152\u001b[0m         \u001b[38;5;28misinstance\u001b[39m(args[\u001b[38;5;241m0\u001b[39m], \u001b[38;5;28mlist\u001b[39m)\n\u001b[1;32m    153\u001b[0m         \u001b[38;5;129;01mand\u001b[39;00m \u001b[38;5;28mall\u001b[39m(\u001b[38;5;28misinstance\u001b[39m(el, \u001b[38;5;28mstr\u001b[39m) \u001b[38;5;28;01mfor\u001b[39;00m el \u001b[38;5;129;01min\u001b[39;00m args[\u001b[38;5;241m0\u001b[39m])\n\u001b[1;32m    154\u001b[0m         \u001b[38;5;129;01mand\u001b[39;00m \u001b[38;5;28mall\u001b[39m(\u001b[38;5;28mlen\u001b[39m(res) \u001b[38;5;241m==\u001b[39m \u001b[38;5;241m1\u001b[39m \u001b[38;5;28;01mfor\u001b[39;00m res \u001b[38;5;129;01min\u001b[39;00m result)\n\u001b[1;32m    155\u001b[0m     ):\n\u001b[1;32m    156\u001b[0m         \u001b[38;5;28;01mreturn\u001b[39;00m [res[\u001b[38;5;241m0\u001b[39m] \u001b[38;5;28;01mfor\u001b[39;00m res \u001b[38;5;129;01min\u001b[39;00m result]\n",
      "File \u001b[0;32m~/transformers-course/.env/lib/python3.10/site-packages/transformers/pipelines/base.py:1074\u001b[0m, in \u001b[0;36mPipeline.__call__\u001b[0;34m(self, inputs, num_workers, batch_size, *args, **kwargs)\u001b[0m\n\u001b[1;32m   1072\u001b[0m     \u001b[38;5;28;01mreturn\u001b[39;00m \u001b[38;5;28mself\u001b[39m\u001b[38;5;241m.\u001b[39miterate(inputs, preprocess_params, forward_params, postprocess_params)\n\u001b[1;32m   1073\u001b[0m \u001b[38;5;28;01melse\u001b[39;00m:\n\u001b[0;32m-> 1074\u001b[0m     \u001b[38;5;28;01mreturn\u001b[39;00m \u001b[38;5;28;43mself\u001b[39;49m\u001b[38;5;241;43m.\u001b[39;49m\u001b[43mrun_single\u001b[49m\u001b[43m(\u001b[49m\u001b[43minputs\u001b[49m\u001b[43m,\u001b[49m\u001b[43m \u001b[49m\u001b[43mpreprocess_params\u001b[49m\u001b[43m,\u001b[49m\u001b[43m \u001b[49m\u001b[43mforward_params\u001b[49m\u001b[43m,\u001b[49m\u001b[43m \u001b[49m\u001b[43mpostprocess_params\u001b[49m\u001b[43m)\u001b[49m\n",
      "File \u001b[0;32m~/transformers-course/.env/lib/python3.10/site-packages/transformers/pipelines/base.py:1081\u001b[0m, in \u001b[0;36mPipeline.run_single\u001b[0;34m(self, inputs, preprocess_params, forward_params, postprocess_params)\u001b[0m\n\u001b[1;32m   1079\u001b[0m \u001b[38;5;28;01mdef\u001b[39;00m \u001b[38;5;21mrun_single\u001b[39m(\u001b[38;5;28mself\u001b[39m, inputs, preprocess_params, forward_params, postprocess_params):\n\u001b[1;32m   1080\u001b[0m     model_inputs \u001b[38;5;241m=\u001b[39m \u001b[38;5;28mself\u001b[39m\u001b[38;5;241m.\u001b[39mpreprocess(inputs, \u001b[38;5;241m*\u001b[39m\u001b[38;5;241m*\u001b[39mpreprocess_params)\n\u001b[0;32m-> 1081\u001b[0m     model_outputs \u001b[38;5;241m=\u001b[39m \u001b[38;5;28;43mself\u001b[39;49m\u001b[38;5;241;43m.\u001b[39;49m\u001b[43mforward\u001b[49m\u001b[43m(\u001b[49m\u001b[43mmodel_inputs\u001b[49m\u001b[43m,\u001b[49m\u001b[43m \u001b[49m\u001b[38;5;241;43m*\u001b[39;49m\u001b[38;5;241;43m*\u001b[39;49m\u001b[43mforward_params\u001b[49m\u001b[43m)\u001b[49m\n\u001b[1;32m   1082\u001b[0m     outputs \u001b[38;5;241m=\u001b[39m \u001b[38;5;28mself\u001b[39m\u001b[38;5;241m.\u001b[39mpostprocess(model_outputs, \u001b[38;5;241m*\u001b[39m\u001b[38;5;241m*\u001b[39mpostprocess_params)\n\u001b[1;32m   1083\u001b[0m     \u001b[38;5;28;01mreturn\u001b[39;00m outputs\n",
      "File \u001b[0;32m~/transformers-course/.env/lib/python3.10/site-packages/transformers/pipelines/base.py:990\u001b[0m, in \u001b[0;36mPipeline.forward\u001b[0;34m(self, model_inputs, **forward_params)\u001b[0m\n\u001b[1;32m    988\u001b[0m     \u001b[38;5;28;01mwith\u001b[39;00m inference_context():\n\u001b[1;32m    989\u001b[0m         model_inputs \u001b[38;5;241m=\u001b[39m \u001b[38;5;28mself\u001b[39m\u001b[38;5;241m.\u001b[39m_ensure_tensor_on_device(model_inputs, device\u001b[38;5;241m=\u001b[39m\u001b[38;5;28mself\u001b[39m\u001b[38;5;241m.\u001b[39mdevice)\n\u001b[0;32m--> 990\u001b[0m         model_outputs \u001b[38;5;241m=\u001b[39m \u001b[38;5;28;43mself\u001b[39;49m\u001b[38;5;241;43m.\u001b[39;49m\u001b[43m_forward\u001b[49m\u001b[43m(\u001b[49m\u001b[43mmodel_inputs\u001b[49m\u001b[43m,\u001b[49m\u001b[43m \u001b[49m\u001b[38;5;241;43m*\u001b[39;49m\u001b[38;5;241;43m*\u001b[39;49m\u001b[43mforward_params\u001b[49m\u001b[43m)\u001b[49m\n\u001b[1;32m    991\u001b[0m         model_outputs \u001b[38;5;241m=\u001b[39m \u001b[38;5;28mself\u001b[39m\u001b[38;5;241m.\u001b[39m_ensure_tensor_on_device(model_outputs, device\u001b[38;5;241m=\u001b[39mtorch\u001b[38;5;241m.\u001b[39mdevice(\u001b[38;5;124m\"\u001b[39m\u001b[38;5;124mcpu\u001b[39m\u001b[38;5;124m\"\u001b[39m))\n\u001b[1;32m    992\u001b[0m \u001b[38;5;28;01melse\u001b[39;00m:\n",
      "File \u001b[0;32m~/transformers-course/.env/lib/python3.10/site-packages/transformers/pipelines/text2text_generation.py:172\u001b[0m, in \u001b[0;36mText2TextGenerationPipeline._forward\u001b[0;34m(self, model_inputs, **generate_kwargs)\u001b[0m\n\u001b[1;32m    170\u001b[0m generate_kwargs[\u001b[38;5;124m\"\u001b[39m\u001b[38;5;124mmax_length\u001b[39m\u001b[38;5;124m\"\u001b[39m] \u001b[38;5;241m=\u001b[39m generate_kwargs\u001b[38;5;241m.\u001b[39mget(\u001b[38;5;124m\"\u001b[39m\u001b[38;5;124mmax_length\u001b[39m\u001b[38;5;124m\"\u001b[39m, \u001b[38;5;28mself\u001b[39m\u001b[38;5;241m.\u001b[39mmodel\u001b[38;5;241m.\u001b[39mconfig\u001b[38;5;241m.\u001b[39mmax_length)\n\u001b[1;32m    171\u001b[0m \u001b[38;5;28mself\u001b[39m\u001b[38;5;241m.\u001b[39mcheck_inputs(input_length, generate_kwargs[\u001b[38;5;124m\"\u001b[39m\u001b[38;5;124mmin_length\u001b[39m\u001b[38;5;124m\"\u001b[39m], generate_kwargs[\u001b[38;5;124m\"\u001b[39m\u001b[38;5;124mmax_length\u001b[39m\u001b[38;5;124m\"\u001b[39m])\n\u001b[0;32m--> 172\u001b[0m output_ids \u001b[38;5;241m=\u001b[39m \u001b[38;5;28;43mself\u001b[39;49m\u001b[38;5;241;43m.\u001b[39;49m\u001b[43mmodel\u001b[49m\u001b[38;5;241;43m.\u001b[39;49m\u001b[43mgenerate\u001b[49m\u001b[43m(\u001b[49m\u001b[38;5;241;43m*\u001b[39;49m\u001b[38;5;241;43m*\u001b[39;49m\u001b[43mmodel_inputs\u001b[49m\u001b[43m,\u001b[49m\u001b[43m \u001b[49m\u001b[38;5;241;43m*\u001b[39;49m\u001b[38;5;241;43m*\u001b[39;49m\u001b[43mgenerate_kwargs\u001b[49m\u001b[43m)\u001b[49m\n\u001b[1;32m    173\u001b[0m out_b \u001b[38;5;241m=\u001b[39m output_ids\u001b[38;5;241m.\u001b[39mshape[\u001b[38;5;241m0\u001b[39m]\n\u001b[1;32m    174\u001b[0m \u001b[38;5;28;01mif\u001b[39;00m \u001b[38;5;28mself\u001b[39m\u001b[38;5;241m.\u001b[39mframework \u001b[38;5;241m==\u001b[39m \u001b[38;5;124m\"\u001b[39m\u001b[38;5;124mpt\u001b[39m\u001b[38;5;124m\"\u001b[39m:\n",
      "File \u001b[0;32m~/transformers-course/.env/lib/python3.10/site-packages/torch/autograd/grad_mode.py:27\u001b[0m, in \u001b[0;36m_DecoratorContextManager.__call__.<locals>.decorate_context\u001b[0;34m(*args, **kwargs)\u001b[0m\n\u001b[1;32m     24\u001b[0m \u001b[38;5;129m@functools\u001b[39m\u001b[38;5;241m.\u001b[39mwraps(func)\n\u001b[1;32m     25\u001b[0m \u001b[38;5;28;01mdef\u001b[39;00m \u001b[38;5;21mdecorate_context\u001b[39m(\u001b[38;5;241m*\u001b[39margs, \u001b[38;5;241m*\u001b[39m\u001b[38;5;241m*\u001b[39mkwargs):\n\u001b[1;32m     26\u001b[0m     \u001b[38;5;28;01mwith\u001b[39;00m \u001b[38;5;28mself\u001b[39m\u001b[38;5;241m.\u001b[39mclone():\n\u001b[0;32m---> 27\u001b[0m         \u001b[38;5;28;01mreturn\u001b[39;00m \u001b[43mfunc\u001b[49m\u001b[43m(\u001b[49m\u001b[38;5;241;43m*\u001b[39;49m\u001b[43margs\u001b[49m\u001b[43m,\u001b[49m\u001b[43m \u001b[49m\u001b[38;5;241;43m*\u001b[39;49m\u001b[38;5;241;43m*\u001b[39;49m\u001b[43mkwargs\u001b[49m\u001b[43m)\u001b[49m\n",
      "File \u001b[0;32m~/transformers-course/.env/lib/python3.10/site-packages/transformers/generation_utils.py:1339\u001b[0m, in \u001b[0;36mGenerationMixin.generate\u001b[0;34m(self, inputs, max_length, min_length, do_sample, early_stopping, num_beams, temperature, penalty_alpha, top_k, top_p, typical_p, repetition_penalty, bad_words_ids, force_words_ids, bos_token_id, pad_token_id, eos_token_id, length_penalty, no_repeat_ngram_size, encoder_no_repeat_ngram_size, num_return_sequences, max_time, max_new_tokens, decoder_start_token_id, use_cache, num_beam_groups, diversity_penalty, prefix_allowed_tokens_fn, logits_processor, renormalize_logits, stopping_criteria, constraints, output_attentions, output_hidden_states, output_scores, return_dict_in_generate, forced_bos_token_id, forced_eos_token_id, remove_invalid_values, synced_gpus, exponential_decay_length_penalty, suppress_tokens, begin_suppress_tokens, forced_decoder_ids, **model_kwargs)\u001b[0m\n\u001b[1;32m   1331\u001b[0m         logger\u001b[38;5;241m.\u001b[39mwarning(\n\u001b[1;32m   1332\u001b[0m             \u001b[38;5;124m\"\u001b[39m\u001b[38;5;124mA decoder-only architecture is being used, but right-padding was detected! For correct \u001b[39m\u001b[38;5;124m\"\u001b[39m\n\u001b[1;32m   1333\u001b[0m             \u001b[38;5;124m\"\u001b[39m\u001b[38;5;124mgeneration results, please set `padding_side=\u001b[39m\u001b[38;5;124m'\u001b[39m\u001b[38;5;124mleft\u001b[39m\u001b[38;5;124m'\u001b[39m\u001b[38;5;124m` when initializing the tokenizer.\u001b[39m\u001b[38;5;124m\"\u001b[39m\n\u001b[1;32m   1334\u001b[0m         )\n\u001b[1;32m   1336\u001b[0m \u001b[38;5;28;01mif\u001b[39;00m \u001b[38;5;28mself\u001b[39m\u001b[38;5;241m.\u001b[39mconfig\u001b[38;5;241m.\u001b[39mis_encoder_decoder \u001b[38;5;129;01mand\u001b[39;00m \u001b[38;5;124m\"\u001b[39m\u001b[38;5;124mencoder_outputs\u001b[39m\u001b[38;5;124m\"\u001b[39m \u001b[38;5;129;01mnot\u001b[39;00m \u001b[38;5;129;01min\u001b[39;00m model_kwargs:\n\u001b[1;32m   1337\u001b[0m     \u001b[38;5;66;03m# if model is encoder decoder encoder_outputs are created\u001b[39;00m\n\u001b[1;32m   1338\u001b[0m     \u001b[38;5;66;03m# and added to `model_kwargs`\u001b[39;00m\n\u001b[0;32m-> 1339\u001b[0m     model_kwargs \u001b[38;5;241m=\u001b[39m \u001b[38;5;28;43mself\u001b[39;49m\u001b[38;5;241;43m.\u001b[39;49m\u001b[43m_prepare_encoder_decoder_kwargs_for_generation\u001b[49m\u001b[43m(\u001b[49m\n\u001b[1;32m   1340\u001b[0m \u001b[43m        \u001b[49m\u001b[43minputs_tensor\u001b[49m\u001b[43m,\u001b[49m\u001b[43m \u001b[49m\u001b[43mmodel_kwargs\u001b[49m\u001b[43m,\u001b[49m\u001b[43m \u001b[49m\u001b[43mmodel_input_name\u001b[49m\n\u001b[1;32m   1341\u001b[0m \u001b[43m    \u001b[49m\u001b[43m)\u001b[49m\n\u001b[1;32m   1343\u001b[0m \u001b[38;5;66;03m# 4. Prepare `input_ids` which will be used for auto-regressive generation\u001b[39;00m\n\u001b[1;32m   1344\u001b[0m \u001b[38;5;28;01mif\u001b[39;00m \u001b[38;5;28mself\u001b[39m\u001b[38;5;241m.\u001b[39mconfig\u001b[38;5;241m.\u001b[39mis_encoder_decoder:\n",
      "File \u001b[0;32m~/transformers-course/.env/lib/python3.10/site-packages/transformers/generation_utils.py:583\u001b[0m, in \u001b[0;36mGenerationMixin._prepare_encoder_decoder_kwargs_for_generation\u001b[0;34m(self, inputs_tensor, model_kwargs, model_input_name)\u001b[0m\n\u001b[1;32m    581\u001b[0m encoder_kwargs[\u001b[38;5;124m\"\u001b[39m\u001b[38;5;124mreturn_dict\u001b[39m\u001b[38;5;124m\"\u001b[39m] \u001b[38;5;241m=\u001b[39m \u001b[38;5;28;01mTrue\u001b[39;00m\n\u001b[1;32m    582\u001b[0m encoder_kwargs[model_input_name] \u001b[38;5;241m=\u001b[39m inputs_tensor\n\u001b[0;32m--> 583\u001b[0m model_kwargs[\u001b[38;5;124m\"\u001b[39m\u001b[38;5;124mencoder_outputs\u001b[39m\u001b[38;5;124m\"\u001b[39m]: ModelOutput \u001b[38;5;241m=\u001b[39m \u001b[43mencoder\u001b[49m\u001b[43m(\u001b[49m\u001b[38;5;241;43m*\u001b[39;49m\u001b[38;5;241;43m*\u001b[39;49m\u001b[43mencoder_kwargs\u001b[49m\u001b[43m)\u001b[49m\n\u001b[1;32m    585\u001b[0m \u001b[38;5;28;01mreturn\u001b[39;00m model_kwargs\n",
      "File \u001b[0;32m~/transformers-course/.env/lib/python3.10/site-packages/torch/nn/modules/module.py:1190\u001b[0m, in \u001b[0;36mModule._call_impl\u001b[0;34m(self, *input, **kwargs)\u001b[0m\n\u001b[1;32m   1186\u001b[0m \u001b[38;5;66;03m# If we don't have any hooks, we want to skip the rest of the logic in\u001b[39;00m\n\u001b[1;32m   1187\u001b[0m \u001b[38;5;66;03m# this function, and just call forward.\u001b[39;00m\n\u001b[1;32m   1188\u001b[0m \u001b[38;5;28;01mif\u001b[39;00m \u001b[38;5;129;01mnot\u001b[39;00m (\u001b[38;5;28mself\u001b[39m\u001b[38;5;241m.\u001b[39m_backward_hooks \u001b[38;5;129;01mor\u001b[39;00m \u001b[38;5;28mself\u001b[39m\u001b[38;5;241m.\u001b[39m_forward_hooks \u001b[38;5;129;01mor\u001b[39;00m \u001b[38;5;28mself\u001b[39m\u001b[38;5;241m.\u001b[39m_forward_pre_hooks \u001b[38;5;129;01mor\u001b[39;00m _global_backward_hooks\n\u001b[1;32m   1189\u001b[0m         \u001b[38;5;129;01mor\u001b[39;00m _global_forward_hooks \u001b[38;5;129;01mor\u001b[39;00m _global_forward_pre_hooks):\n\u001b[0;32m-> 1190\u001b[0m     \u001b[38;5;28;01mreturn\u001b[39;00m \u001b[43mforward_call\u001b[49m\u001b[43m(\u001b[49m\u001b[38;5;241;43m*\u001b[39;49m\u001b[38;5;28;43minput\u001b[39;49m\u001b[43m,\u001b[49m\u001b[43m \u001b[49m\u001b[38;5;241;43m*\u001b[39;49m\u001b[38;5;241;43m*\u001b[39;49m\u001b[43mkwargs\u001b[49m\u001b[43m)\u001b[49m\n\u001b[1;32m   1191\u001b[0m \u001b[38;5;66;03m# Do not call functions when jit is used\u001b[39;00m\n\u001b[1;32m   1192\u001b[0m full_backward_hooks, non_full_backward_hooks \u001b[38;5;241m=\u001b[39m [], []\n",
      "File \u001b[0;32m~/transformers-course/.env/lib/python3.10/site-packages/transformers/models/bart/modeling_bart.py:804\u001b[0m, in \u001b[0;36mBartEncoder.forward\u001b[0;34m(self, input_ids, attention_mask, head_mask, inputs_embeds, output_attentions, output_hidden_states, return_dict)\u001b[0m\n\u001b[1;32m    801\u001b[0m \u001b[38;5;28;01mif\u001b[39;00m inputs_embeds \u001b[38;5;129;01mis\u001b[39;00m \u001b[38;5;28;01mNone\u001b[39;00m:\n\u001b[1;32m    802\u001b[0m     inputs_embeds \u001b[38;5;241m=\u001b[39m \u001b[38;5;28mself\u001b[39m\u001b[38;5;241m.\u001b[39membed_tokens(input_ids) \u001b[38;5;241m*\u001b[39m \u001b[38;5;28mself\u001b[39m\u001b[38;5;241m.\u001b[39membed_scale\n\u001b[0;32m--> 804\u001b[0m embed_pos \u001b[38;5;241m=\u001b[39m \u001b[38;5;28;43mself\u001b[39;49m\u001b[38;5;241;43m.\u001b[39;49m\u001b[43membed_positions\u001b[49m\u001b[43m(\u001b[49m\u001b[38;5;28;43minput\u001b[39;49m\u001b[43m)\u001b[49m\n\u001b[1;32m    805\u001b[0m embed_pos \u001b[38;5;241m=\u001b[39m embed_pos\u001b[38;5;241m.\u001b[39mto(inputs_embeds\u001b[38;5;241m.\u001b[39mdevice)\n\u001b[1;32m    807\u001b[0m hidden_states \u001b[38;5;241m=\u001b[39m inputs_embeds \u001b[38;5;241m+\u001b[39m embed_pos\n",
      "File \u001b[0;32m~/transformers-course/.env/lib/python3.10/site-packages/torch/nn/modules/module.py:1190\u001b[0m, in \u001b[0;36mModule._call_impl\u001b[0;34m(self, *input, **kwargs)\u001b[0m\n\u001b[1;32m   1186\u001b[0m \u001b[38;5;66;03m# If we don't have any hooks, we want to skip the rest of the logic in\u001b[39;00m\n\u001b[1;32m   1187\u001b[0m \u001b[38;5;66;03m# this function, and just call forward.\u001b[39;00m\n\u001b[1;32m   1188\u001b[0m \u001b[38;5;28;01mif\u001b[39;00m \u001b[38;5;129;01mnot\u001b[39;00m (\u001b[38;5;28mself\u001b[39m\u001b[38;5;241m.\u001b[39m_backward_hooks \u001b[38;5;129;01mor\u001b[39;00m \u001b[38;5;28mself\u001b[39m\u001b[38;5;241m.\u001b[39m_forward_hooks \u001b[38;5;129;01mor\u001b[39;00m \u001b[38;5;28mself\u001b[39m\u001b[38;5;241m.\u001b[39m_forward_pre_hooks \u001b[38;5;129;01mor\u001b[39;00m _global_backward_hooks\n\u001b[1;32m   1189\u001b[0m         \u001b[38;5;129;01mor\u001b[39;00m _global_forward_hooks \u001b[38;5;129;01mor\u001b[39;00m _global_forward_pre_hooks):\n\u001b[0;32m-> 1190\u001b[0m     \u001b[38;5;28;01mreturn\u001b[39;00m \u001b[43mforward_call\u001b[49m\u001b[43m(\u001b[49m\u001b[38;5;241;43m*\u001b[39;49m\u001b[38;5;28;43minput\u001b[39;49m\u001b[43m,\u001b[49m\u001b[43m \u001b[49m\u001b[38;5;241;43m*\u001b[39;49m\u001b[38;5;241;43m*\u001b[39;49m\u001b[43mkwargs\u001b[49m\u001b[43m)\u001b[49m\n\u001b[1;32m   1191\u001b[0m \u001b[38;5;66;03m# Do not call functions when jit is used\u001b[39;00m\n\u001b[1;32m   1192\u001b[0m full_backward_hooks, non_full_backward_hooks \u001b[38;5;241m=\u001b[39m [], []\n",
      "File \u001b[0;32m~/transformers-course/.env/lib/python3.10/site-packages/transformers/models/bart/modeling_bart.py:139\u001b[0m, in \u001b[0;36mBartLearnedPositionalEmbedding.forward\u001b[0;34m(self, input_ids, past_key_values_length)\u001b[0m\n\u001b[1;32m    134\u001b[0m bsz, seq_len \u001b[38;5;241m=\u001b[39m input_ids\u001b[38;5;241m.\u001b[39mshape[:\u001b[38;5;241m2\u001b[39m]\n\u001b[1;32m    135\u001b[0m positions \u001b[38;5;241m=\u001b[39m torch\u001b[38;5;241m.\u001b[39marange(\n\u001b[1;32m    136\u001b[0m     past_key_values_length, past_key_values_length \u001b[38;5;241m+\u001b[39m seq_len, dtype\u001b[38;5;241m=\u001b[39mtorch\u001b[38;5;241m.\u001b[39mlong, device\u001b[38;5;241m=\u001b[39m\u001b[38;5;28mself\u001b[39m\u001b[38;5;241m.\u001b[39mweight\u001b[38;5;241m.\u001b[39mdevice\n\u001b[1;32m    137\u001b[0m )\u001b[38;5;241m.\u001b[39mexpand(bsz, \u001b[38;5;241m-\u001b[39m\u001b[38;5;241m1\u001b[39m)\n\u001b[0;32m--> 139\u001b[0m \u001b[38;5;28;01mreturn\u001b[39;00m \u001b[38;5;28;43msuper\u001b[39;49m\u001b[43m(\u001b[49m\u001b[43m)\u001b[49m\u001b[38;5;241;43m.\u001b[39;49m\u001b[43mforward\u001b[49m\u001b[43m(\u001b[49m\u001b[43mpositions\u001b[49m\u001b[43m \u001b[49m\u001b[38;5;241;43m+\u001b[39;49m\u001b[43m \u001b[49m\u001b[38;5;28;43mself\u001b[39;49m\u001b[38;5;241;43m.\u001b[39;49m\u001b[43moffset\u001b[49m\u001b[43m)\u001b[49m\n",
      "File \u001b[0;32m~/transformers-course/.env/lib/python3.10/site-packages/torch/nn/modules/sparse.py:160\u001b[0m, in \u001b[0;36mEmbedding.forward\u001b[0;34m(self, input)\u001b[0m\n\u001b[1;32m    159\u001b[0m \u001b[38;5;28;01mdef\u001b[39;00m \u001b[38;5;21mforward\u001b[39m(\u001b[38;5;28mself\u001b[39m, \u001b[38;5;28minput\u001b[39m: Tensor) \u001b[38;5;241m-\u001b[39m\u001b[38;5;241m>\u001b[39m Tensor:\n\u001b[0;32m--> 160\u001b[0m     \u001b[38;5;28;01mreturn\u001b[39;00m \u001b[43mF\u001b[49m\u001b[38;5;241;43m.\u001b[39;49m\u001b[43membedding\u001b[49m\u001b[43m(\u001b[49m\n\u001b[1;32m    161\u001b[0m \u001b[43m        \u001b[49m\u001b[38;5;28;43minput\u001b[39;49m\u001b[43m,\u001b[49m\u001b[43m \u001b[49m\u001b[38;5;28;43mself\u001b[39;49m\u001b[38;5;241;43m.\u001b[39;49m\u001b[43mweight\u001b[49m\u001b[43m,\u001b[49m\u001b[43m \u001b[49m\u001b[38;5;28;43mself\u001b[39;49m\u001b[38;5;241;43m.\u001b[39;49m\u001b[43mpadding_idx\u001b[49m\u001b[43m,\u001b[49m\u001b[43m \u001b[49m\u001b[38;5;28;43mself\u001b[39;49m\u001b[38;5;241;43m.\u001b[39;49m\u001b[43mmax_norm\u001b[49m\u001b[43m,\u001b[49m\n\u001b[1;32m    162\u001b[0m \u001b[43m        \u001b[49m\u001b[38;5;28;43mself\u001b[39;49m\u001b[38;5;241;43m.\u001b[39;49m\u001b[43mnorm_type\u001b[49m\u001b[43m,\u001b[49m\u001b[43m \u001b[49m\u001b[38;5;28;43mself\u001b[39;49m\u001b[38;5;241;43m.\u001b[39;49m\u001b[43mscale_grad_by_freq\u001b[49m\u001b[43m,\u001b[49m\u001b[43m \u001b[49m\u001b[38;5;28;43mself\u001b[39;49m\u001b[38;5;241;43m.\u001b[39;49m\u001b[43msparse\u001b[49m\u001b[43m)\u001b[49m\n",
      "File \u001b[0;32m~/transformers-course/.env/lib/python3.10/site-packages/torch/nn/functional.py:2210\u001b[0m, in \u001b[0;36membedding\u001b[0;34m(input, weight, padding_idx, max_norm, norm_type, scale_grad_by_freq, sparse)\u001b[0m\n\u001b[1;32m   2204\u001b[0m     \u001b[38;5;66;03m# Note [embedding_renorm set_grad_enabled]\u001b[39;00m\n\u001b[1;32m   2205\u001b[0m     \u001b[38;5;66;03m# XXX: equivalent to\u001b[39;00m\n\u001b[1;32m   2206\u001b[0m     \u001b[38;5;66;03m# with torch.no_grad():\u001b[39;00m\n\u001b[1;32m   2207\u001b[0m     \u001b[38;5;66;03m#   torch.embedding_renorm_\u001b[39;00m\n\u001b[1;32m   2208\u001b[0m     \u001b[38;5;66;03m# remove once script supports set_grad_enabled\u001b[39;00m\n\u001b[1;32m   2209\u001b[0m     _no_grad_embedding_renorm_(weight, \u001b[38;5;28minput\u001b[39m, max_norm, norm_type)\n\u001b[0;32m-> 2210\u001b[0m \u001b[38;5;28;01mreturn\u001b[39;00m \u001b[43mtorch\u001b[49m\u001b[38;5;241;43m.\u001b[39;49m\u001b[43membedding\u001b[49m\u001b[43m(\u001b[49m\u001b[43mweight\u001b[49m\u001b[43m,\u001b[49m\u001b[43m \u001b[49m\u001b[38;5;28;43minput\u001b[39;49m\u001b[43m,\u001b[49m\u001b[43m \u001b[49m\u001b[43mpadding_idx\u001b[49m\u001b[43m,\u001b[49m\u001b[43m \u001b[49m\u001b[43mscale_grad_by_freq\u001b[49m\u001b[43m,\u001b[49m\u001b[43m \u001b[49m\u001b[43msparse\u001b[49m\u001b[43m)\u001b[49m\n",
      "\u001b[0;31mIndexError\u001b[0m: index out of range in self"
     ]
    }
   ],
   "source": [
    "summarizer(s)"
   ]
  },
  {
   "cell_type": "code",
   "execution_count": 86,
   "id": "05ca6f13-b0ca-4579-a674-2bc5aefab404",
   "metadata": {},
   "outputs": [
    {
     "data": {
      "text/plain": [
       "[{'summary_text': '\"I don\\'t believe in God, so God doesn\\'t play a role in my view of the meaning of life. I think life has meaning for us because we are conscious. Life is, I don\\'t know, this one\\'s from you actually, simple machines constructing more complex machines,\" he says. \"I think life is simply for each and every one of us to add on to\"'}]"
      ]
     },
     "execution_count": 86,
     "metadata": {},
     "output_type": "execute_result"
    }
   ],
   "source": [
    "summarizer(' '.join(s.split()[:850]))"
   ]
  },
  {
   "cell_type": "code",
   "execution_count": 91,
   "id": "04bf0589-0123-4787-8196-b78e1c07f2f2",
   "metadata": {},
   "outputs": [
    {
     "data": {
      "text/plain": [
       "[{'summary_text': '\"I don\\'t believe in God, so God doesn\\'t play a role in my view of the meaning of life. I think life has meaning for us because we are conscious. Life is, I don\\'t know, this one\\'s from you actually, simple machines constructing more complex machines,\" he says. \"I think life is simply for each and every one of us to add on to\"'}]"
      ]
     },
     "execution_count": 91,
     "metadata": {},
     "output_type": "execute_result"
    }
   ],
   "source": [
    "summarizer(' '.join(s.split()[:855]))"
   ]
  },
  {
   "cell_type": "code",
   "execution_count": null,
   "id": "ace18fa1-a8ee-41b3-b1c0-d92d4631fa83",
   "metadata": {},
   "outputs": [],
   "source": [
    "summarizer('''What do you think are the limits of deep learning, of neural network based machine learning?Well, to give a real answer to that, you'd have to understand the exact processes that are taking place, and those are pretty opaque.So, it's pretty hard to prove a theorem about what can be done and what can't be done, but I think it's reasonably clear.I mean, putting technicalities aside, what deep learning is doing is taking huge numbers of examples and finding some patterns.Okay, that could be interesting in some areas it is, but we have to ask here a certain question.Is it engineering or is it science?Engineering in the sense of just trying to build something that's useful, or science in the sense that it's trying to understand something about elements of the world.So, take, say, a Google parser.We can ask that question.Is it useful, yeah, it's pretty useful.\",\n",
    " \"There are limits to deep learning, as it is currently defined.Forward progress in AI is shrouded in mystery.My hope is that conversations like this can help provide an inspiring spark for new ideas.This is the Artificial Intelligence Podcast.If you enjoy it, subscribe on YouTube, iTunes, or simply connect with me on Twitter at Lex Friedman, spelled F R I D.And now, here's my conversation with Jeff Hawkins.Are you more interested in understanding the human brain or in creating artificial systems that have many of the same qualities but don't necessarily require that you actually understand the underpinning workings of our mind?So there's a clear answer to that question.My primary interest is understanding the human brain.No question about it.\",\n",
    " \"What do you think of the current limits of deep learning?And how do we overcome those limits?So if I had to actually use a single word to define the main challenge in deep learning, it's a challenge that probably has been the challenge for many years.And it's that of generalization.So what that means is that all that we're doing is fitting functions to data.And when the data we see is not from the same distribution, or even if there are some times that it is very close to distribution, but because of the way we train it with limited samples, we then get to this stage where we just don't see generalization as much as we can generalize.And I think adversarial examples are a clear example of this.But if you study machine learning and literature, and the reason why SVMs came very popular were because they were dealing and they had some guarantees about generalization, which is unseen data or out of distribution, or even within distribution where you take an image adding a bit of noise, these models fail.So I think, really, I don't see a lot of progress on generalization in the strong generalization sense of the word.I think our neural networks, you can always find design examples that will make their outputs arbitrary, which is not good because we humans would never be fooled by these kind of images or manipulation of the image.\",\n",
    " \"What do you think are the limits of deep learning, of neural network based machine learning?Well, to give a real answer to that, you'd have to understand the exact processes that are taking place, and those are pretty opaque.So, it's pretty hard to prove a theorem about what can be done and what can't be done, but I think it's reasonably clear.I mean, putting technicalities aside, what deep learning is doing is taking huge numbers of examples and finding some patterns.Okay, that could be interesting in some areas it is, but we have to ask here a certain question.Is it engineering or is it science?Engineering in the sense of just trying to build something that's useful, or science in the sense that it's trying to understand something about elements of the world.So, take, say, a Google parser.We can ask that question.Is it useful, yeah, it's pretty useful.\",\n",
    " \"So what do you think is the current limits of deep learning and are those limits something that we can overcome with time?Yeah, I think one of the biggest limitations of deep learning is that right now it requires really a lot of data, especially labeled data.There are some unsupervised and semi supervised learning algorithms that can reduce the amount of labeled data you need, but they still require a lot of unlabeled data, reinforcement learning algorithms.They don't need labels, but they need really a lot of experiences.As human beings, we don't learn to play Pong by failing at Pong 2 million times.So just getting the generalization ability better is one of the most important bottlenecks in the capability of the technology today.And then I guess I'd also say deep learning is like a component of a bigger system.So far, nobody is really proposing to have only what you'd call deep learning as the entire ingredient of intelligence.You use deep learning as sub modules of other systems, like AlphaGo has a deep learning model that estimates the value function.Most reinforcement learning algorithms have a deep learning module that estimates which action to take next, but you might have other components.''')"
   ]
  },
  {
   "cell_type": "code",
   "execution_count": null,
   "id": "54b88997-17b6-4f89-8cec-9606b8eb2c15",
   "metadata": {},
   "outputs": [],
   "source": []
  }
 ],
 "metadata": {
  "kernelspec": {
   "display_name": "Python 3 (ipykernel)",
   "language": "python",
   "name": "python3"
  },
  "language_info": {
   "codemirror_mode": {
    "name": "ipython",
    "version": 3
   },
   "file_extension": ".py",
   "mimetype": "text/x-python",
   "name": "python",
   "nbconvert_exporter": "python",
   "pygments_lexer": "ipython3",
   "version": "3.10.6"
  }
 },
 "nbformat": 4,
 "nbformat_minor": 5
}
